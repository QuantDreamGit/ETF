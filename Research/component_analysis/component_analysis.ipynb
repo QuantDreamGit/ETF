{
 "cells": [
  {
   "cell_type": "markdown",
   "metadata": {},
   "source": [
    "**NOTE**: Note: The data provided is sourced from the KID and Factsheet of each ETF. Please be careful, as errors may be present."
   ]
  },
  {
   "cell_type": "markdown",
   "metadata": {},
   "source": [
    "### Import libraries"
   ]
  },
  {
   "cell_type": "code",
   "execution_count": 1,
   "metadata": {},
   "outputs": [],
   "source": [
    "import plotly.express as px\n",
    "\n",
    "from vectorbtpro import *\n",
    "from plotly.subplots import make_subplots"
   ]
  },
  {
   "cell_type": "markdown",
   "metadata": {},
   "source": [
    "### Sector Exposure"
   ]
  },
  {
   "cell_type": "code",
   "execution_count": 2,
   "metadata": {},
   "outputs": [
    {
     "data": {
      "text/html": [
       "<div>\n",
       "<style scoped>\n",
       "    .dataframe tbody tr th:only-of-type {\n",
       "        vertical-align: middle;\n",
       "    }\n",
       "\n",
       "    .dataframe tbody tr th {\n",
       "        vertical-align: top;\n",
       "    }\n",
       "\n",
       "    .dataframe thead th {\n",
       "        text-align: right;\n",
       "    }\n",
       "</style>\n",
       "<table border=\"1\" class=\"dataframe\">\n",
       "  <thead>\n",
       "    <tr style=\"text-align: right;\">\n",
       "      <th></th>\n",
       "      <th>IT</th>\n",
       "      <th>Financials</th>\n",
       "      <th>Health Care</th>\n",
       "      <th>Consumer Discretionary</th>\n",
       "      <th>Communication Services</th>\n",
       "      <th>Industrials</th>\n",
       "      <th>Consumer staples</th>\n",
       "      <th>Energy</th>\n",
       "      <th>Utilities</th>\n",
       "      <th>Real Estate</th>\n",
       "      <th>Materials</th>\n",
       "    </tr>\n",
       "  </thead>\n",
       "  <tbody>\n",
       "    <tr>\n",
       "      <th>S&amp;P 500</th>\n",
       "      <td>32.40</td>\n",
       "      <td>12.40</td>\n",
       "      <td>11.70</td>\n",
       "      <td>10.00</td>\n",
       "      <td>9.30</td>\n",
       "      <td>8.10</td>\n",
       "      <td>5.80</td>\n",
       "      <td>3.60</td>\n",
       "      <td>2.30</td>\n",
       "      <td>2.20</td>\n",
       "      <td>2.20</td>\n",
       "    </tr>\n",
       "    <tr>\n",
       "      <th>STOXX 50</th>\n",
       "      <td>14.40</td>\n",
       "      <td>13.10</td>\n",
       "      <td>11.20</td>\n",
       "      <td>19.30</td>\n",
       "      <td>0.00</td>\n",
       "      <td>19.60</td>\n",
       "      <td>8.90</td>\n",
       "      <td>6.60</td>\n",
       "      <td>3.90</td>\n",
       "      <td>0.00</td>\n",
       "      <td>3.00</td>\n",
       "    </tr>\n",
       "    <tr>\n",
       "      <th>MSCI Pacific ex Japan</th>\n",
       "      <td>1.28</td>\n",
       "      <td>40.08</td>\n",
       "      <td>7.82</td>\n",
       "      <td>5.46</td>\n",
       "      <td>4.55</td>\n",
       "      <td>7.98</td>\n",
       "      <td>3.57</td>\n",
       "      <td>3.09</td>\n",
       "      <td>3.60</td>\n",
       "      <td>8.54</td>\n",
       "      <td>13.60</td>\n",
       "    </tr>\n",
       "    <tr>\n",
       "      <th>MSCI Switzerland 20/35</th>\n",
       "      <td>1.20</td>\n",
       "      <td>18.20</td>\n",
       "      <td>34.20</td>\n",
       "      <td>6.00</td>\n",
       "      <td>0.90</td>\n",
       "      <td>10.80</td>\n",
       "      <td>18.90</td>\n",
       "      <td>0.00</td>\n",
       "      <td>0.20</td>\n",
       "      <td>0.50</td>\n",
       "      <td>9.30</td>\n",
       "    </tr>\n",
       "    <tr>\n",
       "      <th>MSCI World</th>\n",
       "      <td>24.90</td>\n",
       "      <td>15.43</td>\n",
       "      <td>11.93</td>\n",
       "      <td>10.12</td>\n",
       "      <td>7.43</td>\n",
       "      <td>11.00</td>\n",
       "      <td>6.36</td>\n",
       "      <td>4.26</td>\n",
       "      <td>2.55</td>\n",
       "      <td>2.21</td>\n",
       "      <td>3.72</td>\n",
       "    </tr>\n",
       "    <tr>\n",
       "      <th>MSCI Emerging Markets</th>\n",
       "      <td>24.34</td>\n",
       "      <td>22.30</td>\n",
       "      <td>3.47</td>\n",
       "      <td>12.26</td>\n",
       "      <td>8.81</td>\n",
       "      <td>6.95</td>\n",
       "      <td>5.30</td>\n",
       "      <td>5.14</td>\n",
       "      <td>3.07</td>\n",
       "      <td>1.47</td>\n",
       "      <td>6.90</td>\n",
       "    </tr>\n",
       "  </tbody>\n",
       "</table>\n",
       "</div>"
      ],
      "text/plain": [
       "                           IT  Financials  Health Care  \\\n",
       "S&P 500                 32.40       12.40        11.70   \n",
       "STOXX 50                14.40       13.10        11.20   \n",
       "MSCI Pacific ex Japan    1.28       40.08         7.82   \n",
       "MSCI Switzerland 20/35   1.20       18.20        34.20   \n",
       "MSCI World              24.90       15.43        11.93   \n",
       "MSCI Emerging Markets   24.34       22.30         3.47   \n",
       "\n",
       "                        Consumer Discretionary  Communication Services  \\\n",
       "S&P 500                                  10.00                    9.30   \n",
       "STOXX 50                                 19.30                    0.00   \n",
       "MSCI Pacific ex Japan                     5.46                    4.55   \n",
       "MSCI Switzerland 20/35                    6.00                    0.90   \n",
       "MSCI World                               10.12                    7.43   \n",
       "MSCI Emerging Markets                    12.26                    8.81   \n",
       "\n",
       "                        Industrials  Consumer staples  Energy  Utilities  \\\n",
       "S&P 500                        8.10              5.80    3.60       2.30   \n",
       "STOXX 50                      19.60              8.90    6.60       3.90   \n",
       "MSCI Pacific ex Japan          7.98              3.57    3.09       3.60   \n",
       "MSCI Switzerland 20/35        10.80             18.90    0.00       0.20   \n",
       "MSCI World                    11.00              6.36    4.26       2.55   \n",
       "MSCI Emerging Markets          6.95              5.30    5.14       3.07   \n",
       "\n",
       "                        Real Estate  Materials  \n",
       "S&P 500                        2.20       2.20  \n",
       "STOXX 50                       0.00       3.00  \n",
       "MSCI Pacific ex Japan          8.54      13.60  \n",
       "MSCI Switzerland 20/35         0.50       9.30  \n",
       "MSCI World                     2.21       3.72  \n",
       "MSCI Emerging Markets          1.47       6.90  "
      ]
     },
     "execution_count": 2,
     "metadata": {},
     "output_type": "execute_result"
    }
   ],
   "source": [
    "sector_exposure = pd.DataFrame({\n",
    "    'IT': [32.40, 14.40, 1.28, 1.20, 24.90, 24.34],\n",
    "    'Financials': [12.40, 13.10, 40.08, 18.20, 15.43, 22.30],\n",
    "    'Health Care': [11.70, 11.20, 7.82, 34.20, 11.93, 3.47],\n",
    "    'Consumer Discretionary': [10.00, 19.30, 5.46, 6.00, 10.12, 12.26],\n",
    "    'Communication Services': [9.30, 0.00, 4.55, 0.90, 7.43, 8.81],\n",
    "    'Industrials': [8.10, 19.60, 7.98, 10.80, 11.00, 6.95],\n",
    "    'Consumer staples': [5.80, 8.90, 3.57, 18.90, 6.36, 5.30],\n",
    "    'Energy': [3.60, 6.60, 3.09, 0.00, 4.26, 5.14],\n",
    "    'Utilities': [2.30, 3.90, 3.60, 0.20, 2.55, 3.07],\n",
    "    'Real Estate': [2.20, 0.00, 8.54, 0.50, 2.21, 1.47],\n",
    "    'Materials': [2.20, 3.00, 13.60, 9.30, 3.72, 6.90]\n",
    "}, index=[\n",
    "    'S&P 500',\n",
    "    'STOXX 50',\n",
    "    'MSCI Pacific ex Japan',\n",
    "    'MSCI Switzerland 20/35',\n",
    "    'MSCI World',\n",
    "    'MSCI Emerging Markets'\n",
    "])\n",
    "\n",
    "sector_exposure"
   ]
  },
  {
   "cell_type": "code",
   "execution_count": 3,
   "metadata": {},
   "outputs": [
    {
     "data": {
      "application/vnd.plotly.v1+json": {
       "config": {
        "plotlyServerURL": "https://plot.ly"
       },
       "data": [
        {
         "alignmentgroup": "True",
         "hovertemplate": "variable=IT<br>index=%{x}<br>value=%{y}<extra></extra>",
         "legendgroup": "IT",
         "marker": {
          "color": "#636efa",
          "pattern": {
           "shape": ""
          }
         },
         "name": "IT",
         "offsetgroup": "IT",
         "orientation": "v",
         "showlegend": true,
         "textposition": "inside",
         "texttemplate": "%{y:.2f}%",
         "type": "bar",
         "x": [
          "S&P 500",
          "STOXX 50",
          "MSCI Pacific ex Japan",
          "MSCI Switzerland 20/35",
          "MSCI World",
          "MSCI Emerging Markets"
         ],
         "xaxis": "x",
         "y": [
          32.4,
          14.4,
          1.28,
          1.2,
          24.9,
          24.34
         ],
         "yaxis": "y"
        },
        {
         "alignmentgroup": "True",
         "hovertemplate": "variable=Financials<br>index=%{x}<br>value=%{y}<extra></extra>",
         "legendgroup": "Financials",
         "marker": {
          "color": "#EF553B",
          "pattern": {
           "shape": ""
          }
         },
         "name": "Financials",
         "offsetgroup": "Financials",
         "orientation": "v",
         "showlegend": true,
         "textposition": "inside",
         "texttemplate": "%{y:.2f}%",
         "type": "bar",
         "x": [
          "S&P 500",
          "STOXX 50",
          "MSCI Pacific ex Japan",
          "MSCI Switzerland 20/35",
          "MSCI World",
          "MSCI Emerging Markets"
         ],
         "xaxis": "x",
         "y": [
          12.4,
          13.1,
          40.08,
          18.2,
          15.43,
          22.3
         ],
         "yaxis": "y"
        },
        {
         "alignmentgroup": "True",
         "hovertemplate": "variable=Health Care<br>index=%{x}<br>value=%{y}<extra></extra>",
         "legendgroup": "Health Care",
         "marker": {
          "color": "#00cc96",
          "pattern": {
           "shape": ""
          }
         },
         "name": "Health Care",
         "offsetgroup": "Health Care",
         "orientation": "v",
         "showlegend": true,
         "textposition": "inside",
         "texttemplate": "%{y:.2f}%",
         "type": "bar",
         "x": [
          "S&P 500",
          "STOXX 50",
          "MSCI Pacific ex Japan",
          "MSCI Switzerland 20/35",
          "MSCI World",
          "MSCI Emerging Markets"
         ],
         "xaxis": "x",
         "y": [
          11.7,
          11.2,
          7.82,
          34.2,
          11.93,
          3.47
         ],
         "yaxis": "y"
        },
        {
         "alignmentgroup": "True",
         "hovertemplate": "variable=Consumer Discretionary<br>index=%{x}<br>value=%{y}<extra></extra>",
         "legendgroup": "Consumer Discretionary",
         "marker": {
          "color": "#ab63fa",
          "pattern": {
           "shape": ""
          }
         },
         "name": "Consumer Discretionary",
         "offsetgroup": "Consumer Discretionary",
         "orientation": "v",
         "showlegend": true,
         "textposition": "inside",
         "texttemplate": "%{y:.2f}%",
         "type": "bar",
         "x": [
          "S&P 500",
          "STOXX 50",
          "MSCI Pacific ex Japan",
          "MSCI Switzerland 20/35",
          "MSCI World",
          "MSCI Emerging Markets"
         ],
         "xaxis": "x",
         "y": [
          10,
          19.3,
          5.46,
          6,
          10.12,
          12.26
         ],
         "yaxis": "y"
        },
        {
         "alignmentgroup": "True",
         "hovertemplate": "variable=Communication Services<br>index=%{x}<br>value=%{y}<extra></extra>",
         "legendgroup": "Communication Services",
         "marker": {
          "color": "#FFA15A",
          "pattern": {
           "shape": ""
          }
         },
         "name": "Communication Services",
         "offsetgroup": "Communication Services",
         "orientation": "v",
         "showlegend": true,
         "textposition": "inside",
         "texttemplate": "%{y:.2f}%",
         "type": "bar",
         "x": [
          "S&P 500",
          "STOXX 50",
          "MSCI Pacific ex Japan",
          "MSCI Switzerland 20/35",
          "MSCI World",
          "MSCI Emerging Markets"
         ],
         "xaxis": "x",
         "y": [
          9.3,
          0,
          4.55,
          0.9,
          7.43,
          8.81
         ],
         "yaxis": "y"
        },
        {
         "alignmentgroup": "True",
         "hovertemplate": "variable=Industrials<br>index=%{x}<br>value=%{y}<extra></extra>",
         "legendgroup": "Industrials",
         "marker": {
          "color": "#19d3f3",
          "pattern": {
           "shape": ""
          }
         },
         "name": "Industrials",
         "offsetgroup": "Industrials",
         "orientation": "v",
         "showlegend": true,
         "textposition": "inside",
         "texttemplate": "%{y:.2f}%",
         "type": "bar",
         "x": [
          "S&P 500",
          "STOXX 50",
          "MSCI Pacific ex Japan",
          "MSCI Switzerland 20/35",
          "MSCI World",
          "MSCI Emerging Markets"
         ],
         "xaxis": "x",
         "y": [
          8.1,
          19.6,
          7.98,
          10.8,
          11,
          6.95
         ],
         "yaxis": "y"
        },
        {
         "alignmentgroup": "True",
         "hovertemplate": "variable=Consumer staples<br>index=%{x}<br>value=%{y}<extra></extra>",
         "legendgroup": "Consumer staples",
         "marker": {
          "color": "#FF6692",
          "pattern": {
           "shape": ""
          }
         },
         "name": "Consumer staples",
         "offsetgroup": "Consumer staples",
         "orientation": "v",
         "showlegend": true,
         "textposition": "inside",
         "texttemplate": "%{y:.2f}%",
         "type": "bar",
         "x": [
          "S&P 500",
          "STOXX 50",
          "MSCI Pacific ex Japan",
          "MSCI Switzerland 20/35",
          "MSCI World",
          "MSCI Emerging Markets"
         ],
         "xaxis": "x",
         "y": [
          5.8,
          8.9,
          3.57,
          18.9,
          6.36,
          5.3
         ],
         "yaxis": "y"
        },
        {
         "alignmentgroup": "True",
         "hovertemplate": "variable=Energy<br>index=%{x}<br>value=%{y}<extra></extra>",
         "legendgroup": "Energy",
         "marker": {
          "color": "#B6E880",
          "pattern": {
           "shape": ""
          }
         },
         "name": "Energy",
         "offsetgroup": "Energy",
         "orientation": "v",
         "showlegend": true,
         "textposition": "inside",
         "texttemplate": "%{y:.2f}%",
         "type": "bar",
         "x": [
          "S&P 500",
          "STOXX 50",
          "MSCI Pacific ex Japan",
          "MSCI Switzerland 20/35",
          "MSCI World",
          "MSCI Emerging Markets"
         ],
         "xaxis": "x",
         "y": [
          3.6,
          6.6,
          3.09,
          0,
          4.26,
          5.14
         ],
         "yaxis": "y"
        },
        {
         "alignmentgroup": "True",
         "hovertemplate": "variable=Utilities<br>index=%{x}<br>value=%{y}<extra></extra>",
         "legendgroup": "Utilities",
         "marker": {
          "color": "#FF97FF",
          "pattern": {
           "shape": ""
          }
         },
         "name": "Utilities",
         "offsetgroup": "Utilities",
         "orientation": "v",
         "showlegend": true,
         "textposition": "inside",
         "texttemplate": "%{y:.2f}%",
         "type": "bar",
         "x": [
          "S&P 500",
          "STOXX 50",
          "MSCI Pacific ex Japan",
          "MSCI Switzerland 20/35",
          "MSCI World",
          "MSCI Emerging Markets"
         ],
         "xaxis": "x",
         "y": [
          2.3,
          3.9,
          3.6,
          0.2,
          2.55,
          3.07
         ],
         "yaxis": "y"
        },
        {
         "alignmentgroup": "True",
         "hovertemplate": "variable=Real Estate<br>index=%{x}<br>value=%{y}<extra></extra>",
         "legendgroup": "Real Estate",
         "marker": {
          "color": "#FECB52",
          "pattern": {
           "shape": ""
          }
         },
         "name": "Real Estate",
         "offsetgroup": "Real Estate",
         "orientation": "v",
         "showlegend": true,
         "textposition": "inside",
         "texttemplate": "%{y:.2f}%",
         "type": "bar",
         "x": [
          "S&P 500",
          "STOXX 50",
          "MSCI Pacific ex Japan",
          "MSCI Switzerland 20/35",
          "MSCI World",
          "MSCI Emerging Markets"
         ],
         "xaxis": "x",
         "y": [
          2.2,
          0,
          8.54,
          0.5,
          2.21,
          1.47
         ],
         "yaxis": "y"
        },
        {
         "alignmentgroup": "True",
         "hovertemplate": "variable=Materials<br>index=%{x}<br>value=%{y}<extra></extra>",
         "legendgroup": "Materials",
         "marker": {
          "color": "#636efa",
          "pattern": {
           "shape": ""
          }
         },
         "name": "Materials",
         "offsetgroup": "Materials",
         "orientation": "v",
         "showlegend": true,
         "textposition": "inside",
         "texttemplate": "%{y:.2f}%",
         "type": "bar",
         "x": [
          "S&P 500",
          "STOXX 50",
          "MSCI Pacific ex Japan",
          "MSCI Switzerland 20/35",
          "MSCI World",
          "MSCI Emerging Markets"
         ],
         "xaxis": "x",
         "y": [
          2.2,
          3,
          13.6,
          9.3,
          3.72,
          6.9
         ],
         "yaxis": "y"
        }
       ],
       "layout": {
        "barmode": "stack",
        "height": 600,
        "legend": {
         "title": {
          "text": "variable"
         },
         "tracegroupgap": 0
        },
        "margin": {
         "t": 60
        },
        "template": {
         "data": {
          "bar": [
           {
            "error_x": {
             "color": "#2a3f5f"
            },
            "error_y": {
             "color": "#2a3f5f"
            },
            "marker": {
             "line": {
              "color": "#E5ECF6",
              "width": 0.5
             },
             "pattern": {
              "fillmode": "overlay",
              "size": 10,
              "solidity": 0.2
             }
            },
            "type": "bar"
           }
          ],
          "barpolar": [
           {
            "marker": {
             "line": {
              "color": "#E5ECF6",
              "width": 0.5
             },
             "pattern": {
              "fillmode": "overlay",
              "size": 10,
              "solidity": 0.2
             }
            },
            "type": "barpolar"
           }
          ],
          "carpet": [
           {
            "aaxis": {
             "endlinecolor": "#2a3f5f",
             "gridcolor": "white",
             "linecolor": "white",
             "minorgridcolor": "white",
             "startlinecolor": "#2a3f5f"
            },
            "baxis": {
             "endlinecolor": "#2a3f5f",
             "gridcolor": "white",
             "linecolor": "white",
             "minorgridcolor": "white",
             "startlinecolor": "#2a3f5f"
            },
            "type": "carpet"
           }
          ],
          "choropleth": [
           {
            "colorbar": {
             "outlinewidth": 0,
             "ticks": ""
            },
            "type": "choropleth"
           }
          ],
          "contour": [
           {
            "colorbar": {
             "outlinewidth": 0,
             "ticks": ""
            },
            "colorscale": [
             [
              0,
              "#0d0887"
             ],
             [
              0.1111111111111111,
              "#46039f"
             ],
             [
              0.2222222222222222,
              "#7201a8"
             ],
             [
              0.3333333333333333,
              "#9c179e"
             ],
             [
              0.4444444444444444,
              "#bd3786"
             ],
             [
              0.5555555555555556,
              "#d8576b"
             ],
             [
              0.6666666666666666,
              "#ed7953"
             ],
             [
              0.7777777777777778,
              "#fb9f3a"
             ],
             [
              0.8888888888888888,
              "#fdca26"
             ],
             [
              1,
              "#f0f921"
             ]
            ],
            "type": "contour"
           }
          ],
          "contourcarpet": [
           {
            "colorbar": {
             "outlinewidth": 0,
             "ticks": ""
            },
            "type": "contourcarpet"
           }
          ],
          "heatmap": [
           {
            "colorbar": {
             "outlinewidth": 0,
             "ticks": ""
            },
            "colorscale": [
             [
              0,
              "#0d0887"
             ],
             [
              0.1111111111111111,
              "#46039f"
             ],
             [
              0.2222222222222222,
              "#7201a8"
             ],
             [
              0.3333333333333333,
              "#9c179e"
             ],
             [
              0.4444444444444444,
              "#bd3786"
             ],
             [
              0.5555555555555556,
              "#d8576b"
             ],
             [
              0.6666666666666666,
              "#ed7953"
             ],
             [
              0.7777777777777778,
              "#fb9f3a"
             ],
             [
              0.8888888888888888,
              "#fdca26"
             ],
             [
              1,
              "#f0f921"
             ]
            ],
            "type": "heatmap"
           }
          ],
          "heatmapgl": [
           {
            "colorbar": {
             "outlinewidth": 0,
             "ticks": ""
            },
            "colorscale": [
             [
              0,
              "#0d0887"
             ],
             [
              0.1111111111111111,
              "#46039f"
             ],
             [
              0.2222222222222222,
              "#7201a8"
             ],
             [
              0.3333333333333333,
              "#9c179e"
             ],
             [
              0.4444444444444444,
              "#bd3786"
             ],
             [
              0.5555555555555556,
              "#d8576b"
             ],
             [
              0.6666666666666666,
              "#ed7953"
             ],
             [
              0.7777777777777778,
              "#fb9f3a"
             ],
             [
              0.8888888888888888,
              "#fdca26"
             ],
             [
              1,
              "#f0f921"
             ]
            ],
            "type": "heatmapgl"
           }
          ],
          "histogram": [
           {
            "marker": {
             "pattern": {
              "fillmode": "overlay",
              "size": 10,
              "solidity": 0.2
             }
            },
            "type": "histogram"
           }
          ],
          "histogram2d": [
           {
            "colorbar": {
             "outlinewidth": 0,
             "ticks": ""
            },
            "colorscale": [
             [
              0,
              "#0d0887"
             ],
             [
              0.1111111111111111,
              "#46039f"
             ],
             [
              0.2222222222222222,
              "#7201a8"
             ],
             [
              0.3333333333333333,
              "#9c179e"
             ],
             [
              0.4444444444444444,
              "#bd3786"
             ],
             [
              0.5555555555555556,
              "#d8576b"
             ],
             [
              0.6666666666666666,
              "#ed7953"
             ],
             [
              0.7777777777777778,
              "#fb9f3a"
             ],
             [
              0.8888888888888888,
              "#fdca26"
             ],
             [
              1,
              "#f0f921"
             ]
            ],
            "type": "histogram2d"
           }
          ],
          "histogram2dcontour": [
           {
            "colorbar": {
             "outlinewidth": 0,
             "ticks": ""
            },
            "colorscale": [
             [
              0,
              "#0d0887"
             ],
             [
              0.1111111111111111,
              "#46039f"
             ],
             [
              0.2222222222222222,
              "#7201a8"
             ],
             [
              0.3333333333333333,
              "#9c179e"
             ],
             [
              0.4444444444444444,
              "#bd3786"
             ],
             [
              0.5555555555555556,
              "#d8576b"
             ],
             [
              0.6666666666666666,
              "#ed7953"
             ],
             [
              0.7777777777777778,
              "#fb9f3a"
             ],
             [
              0.8888888888888888,
              "#fdca26"
             ],
             [
              1,
              "#f0f921"
             ]
            ],
            "type": "histogram2dcontour"
           }
          ],
          "mesh3d": [
           {
            "colorbar": {
             "outlinewidth": 0,
             "ticks": ""
            },
            "type": "mesh3d"
           }
          ],
          "parcoords": [
           {
            "line": {
             "colorbar": {
              "outlinewidth": 0,
              "ticks": ""
             }
            },
            "type": "parcoords"
           }
          ],
          "pie": [
           {
            "automargin": true,
            "type": "pie"
           }
          ],
          "scatter": [
           {
            "fillpattern": {
             "fillmode": "overlay",
             "size": 10,
             "solidity": 0.2
            },
            "type": "scatter"
           }
          ],
          "scatter3d": [
           {
            "line": {
             "colorbar": {
              "outlinewidth": 0,
              "ticks": ""
             }
            },
            "marker": {
             "colorbar": {
              "outlinewidth": 0,
              "ticks": ""
             }
            },
            "type": "scatter3d"
           }
          ],
          "scattercarpet": [
           {
            "marker": {
             "colorbar": {
              "outlinewidth": 0,
              "ticks": ""
             }
            },
            "type": "scattercarpet"
           }
          ],
          "scattergeo": [
           {
            "marker": {
             "colorbar": {
              "outlinewidth": 0,
              "ticks": ""
             }
            },
            "type": "scattergeo"
           }
          ],
          "scattergl": [
           {
            "marker": {
             "colorbar": {
              "outlinewidth": 0,
              "ticks": ""
             }
            },
            "type": "scattergl"
           }
          ],
          "scattermapbox": [
           {
            "marker": {
             "colorbar": {
              "outlinewidth": 0,
              "ticks": ""
             }
            },
            "type": "scattermapbox"
           }
          ],
          "scatterpolar": [
           {
            "marker": {
             "colorbar": {
              "outlinewidth": 0,
              "ticks": ""
             }
            },
            "type": "scatterpolar"
           }
          ],
          "scatterpolargl": [
           {
            "marker": {
             "colorbar": {
              "outlinewidth": 0,
              "ticks": ""
             }
            },
            "type": "scatterpolargl"
           }
          ],
          "scatterternary": [
           {
            "marker": {
             "colorbar": {
              "outlinewidth": 0,
              "ticks": ""
             }
            },
            "type": "scatterternary"
           }
          ],
          "surface": [
           {
            "colorbar": {
             "outlinewidth": 0,
             "ticks": ""
            },
            "colorscale": [
             [
              0,
              "#0d0887"
             ],
             [
              0.1111111111111111,
              "#46039f"
             ],
             [
              0.2222222222222222,
              "#7201a8"
             ],
             [
              0.3333333333333333,
              "#9c179e"
             ],
             [
              0.4444444444444444,
              "#bd3786"
             ],
             [
              0.5555555555555556,
              "#d8576b"
             ],
             [
              0.6666666666666666,
              "#ed7953"
             ],
             [
              0.7777777777777778,
              "#fb9f3a"
             ],
             [
              0.8888888888888888,
              "#fdca26"
             ],
             [
              1,
              "#f0f921"
             ]
            ],
            "type": "surface"
           }
          ],
          "table": [
           {
            "cells": {
             "fill": {
              "color": "#EBF0F8"
             },
             "line": {
              "color": "white"
             }
            },
            "header": {
             "fill": {
              "color": "#C8D4E3"
             },
             "line": {
              "color": "white"
             }
            },
            "type": "table"
           }
          ]
         },
         "layout": {
          "annotationdefaults": {
           "arrowcolor": "#2a3f5f",
           "arrowhead": 0,
           "arrowwidth": 1
          },
          "autotypenumbers": "strict",
          "coloraxis": {
           "colorbar": {
            "outlinewidth": 0,
            "ticks": ""
           }
          },
          "colorscale": {
           "diverging": [
            [
             0,
             "#8e0152"
            ],
            [
             0.1,
             "#c51b7d"
            ],
            [
             0.2,
             "#de77ae"
            ],
            [
             0.3,
             "#f1b6da"
            ],
            [
             0.4,
             "#fde0ef"
            ],
            [
             0.5,
             "#f7f7f7"
            ],
            [
             0.6,
             "#e6f5d0"
            ],
            [
             0.7,
             "#b8e186"
            ],
            [
             0.8,
             "#7fbc41"
            ],
            [
             0.9,
             "#4d9221"
            ],
            [
             1,
             "#276419"
            ]
           ],
           "sequential": [
            [
             0,
             "#0d0887"
            ],
            [
             0.1111111111111111,
             "#46039f"
            ],
            [
             0.2222222222222222,
             "#7201a8"
            ],
            [
             0.3333333333333333,
             "#9c179e"
            ],
            [
             0.4444444444444444,
             "#bd3786"
            ],
            [
             0.5555555555555556,
             "#d8576b"
            ],
            [
             0.6666666666666666,
             "#ed7953"
            ],
            [
             0.7777777777777778,
             "#fb9f3a"
            ],
            [
             0.8888888888888888,
             "#fdca26"
            ],
            [
             1,
             "#f0f921"
            ]
           ],
           "sequentialminus": [
            [
             0,
             "#0d0887"
            ],
            [
             0.1111111111111111,
             "#46039f"
            ],
            [
             0.2222222222222222,
             "#7201a8"
            ],
            [
             0.3333333333333333,
             "#9c179e"
            ],
            [
             0.4444444444444444,
             "#bd3786"
            ],
            [
             0.5555555555555556,
             "#d8576b"
            ],
            [
             0.6666666666666666,
             "#ed7953"
            ],
            [
             0.7777777777777778,
             "#fb9f3a"
            ],
            [
             0.8888888888888888,
             "#fdca26"
            ],
            [
             1,
             "#f0f921"
            ]
           ]
          },
          "colorway": [
           "#636efa",
           "#EF553B",
           "#00cc96",
           "#ab63fa",
           "#FFA15A",
           "#19d3f3",
           "#FF6692",
           "#B6E880",
           "#FF97FF",
           "#FECB52"
          ],
          "font": {
           "color": "#2a3f5f"
          },
          "geo": {
           "bgcolor": "white",
           "lakecolor": "white",
           "landcolor": "#E5ECF6",
           "showlakes": true,
           "showland": true,
           "subunitcolor": "white"
          },
          "hoverlabel": {
           "align": "left"
          },
          "hovermode": "closest",
          "mapbox": {
           "style": "light"
          },
          "paper_bgcolor": "white",
          "plot_bgcolor": "#E5ECF6",
          "polar": {
           "angularaxis": {
            "gridcolor": "white",
            "linecolor": "white",
            "ticks": ""
           },
           "bgcolor": "#E5ECF6",
           "radialaxis": {
            "gridcolor": "white",
            "linecolor": "white",
            "ticks": ""
           }
          },
          "scene": {
           "xaxis": {
            "backgroundcolor": "#E5ECF6",
            "gridcolor": "white",
            "gridwidth": 2,
            "linecolor": "white",
            "showbackground": true,
            "ticks": "",
            "zerolinecolor": "white"
           },
           "yaxis": {
            "backgroundcolor": "#E5ECF6",
            "gridcolor": "white",
            "gridwidth": 2,
            "linecolor": "white",
            "showbackground": true,
            "ticks": "",
            "zerolinecolor": "white"
           },
           "zaxis": {
            "backgroundcolor": "#E5ECF6",
            "gridcolor": "white",
            "gridwidth": 2,
            "linecolor": "white",
            "showbackground": true,
            "ticks": "",
            "zerolinecolor": "white"
           }
          },
          "shapedefaults": {
           "line": {
            "color": "#2a3f5f"
           }
          },
          "ternary": {
           "aaxis": {
            "gridcolor": "white",
            "linecolor": "white",
            "ticks": ""
           },
           "baxis": {
            "gridcolor": "white",
            "linecolor": "white",
            "ticks": ""
           },
           "bgcolor": "#E5ECF6",
           "caxis": {
            "gridcolor": "white",
            "linecolor": "white",
            "ticks": ""
           }
          },
          "title": {
           "x": 0.05
          },
          "xaxis": {
           "automargin": true,
           "gridcolor": "white",
           "linecolor": "white",
           "ticks": "",
           "title": {
            "standoff": 15
           },
           "zerolinecolor": "white",
           "zerolinewidth": 2
          },
          "yaxis": {
           "automargin": true,
           "gridcolor": "white",
           "linecolor": "white",
           "ticks": "",
           "title": {
            "standoff": 15
           },
           "zerolinecolor": "white",
           "zerolinewidth": 2
          }
         }
        },
        "title": {
         "text": "Sector exposure of ETFs",
         "x": 0.5
        },
        "xaxis": {
         "anchor": "y",
         "domain": [
          0,
          1
         ],
         "title": {
          "text": "ETFs"
         }
        },
        "yaxis": {
         "anchor": "x",
         "domain": [
          0,
          1
         ],
         "title": {
          "text": "Percentage of total exposure"
         }
        }
       }
      }
     },
     "metadata": {},
     "output_type": "display_data"
    }
   ],
   "source": [
    "\n",
    "fig = px.bar(sector_exposure, barmode='stack')\n",
    "fig.update_layout(\n",
    "    title='Sector exposure of ETFs',\n",
    "    xaxis_title='ETFs',\n",
    "    yaxis_title='Percentage of total exposure',\n",
    ")\n",
    "fig.update_layout(title_x=0.5,height=600)\n",
    "fig.update_traces(texttemplate='%{y:.2f}%', textposition='inside')\n",
    "fig.show()"
   ]
  },
  {
   "cell_type": "markdown",
   "metadata": {},
   "source": [
    "### Country exposure"
   ]
  },
  {
   "cell_type": "code",
   "execution_count": 4,
   "metadata": {},
   "outputs": [
    {
     "data": {
      "text/html": [
       "<div>\n",
       "<style scoped>\n",
       "    .dataframe tbody tr th:only-of-type {\n",
       "        vertical-align: middle;\n",
       "    }\n",
       "\n",
       "    .dataframe tbody tr th {\n",
       "        vertical-align: top;\n",
       "    }\n",
       "\n",
       "    .dataframe thead th {\n",
       "        text-align: right;\n",
       "    }\n",
       "</style>\n",
       "<table border=\"1\" class=\"dataframe\">\n",
       "  <thead>\n",
       "    <tr style=\"text-align: right;\">\n",
       "      <th></th>\n",
       "      <th>USA</th>\n",
       "      <th>Europe</th>\n",
       "      <th>China</th>\n",
       "      <th>Australia</th>\n",
       "      <th>Singapore</th>\n",
       "      <th>Japan</th>\n",
       "      <th>India</th>\n",
       "      <th>Taiwan</th>\n",
       "      <th>South Korea</th>\n",
       "      <th>Brazil</th>\n",
       "      <th>Hong Kong</th>\n",
       "      <th>New Zeland</th>\n",
       "      <th>Other</th>\n",
       "    </tr>\n",
       "  </thead>\n",
       "  <tbody>\n",
       "    <tr>\n",
       "      <th>S&amp;P 500</th>\n",
       "      <td>100.00</td>\n",
       "      <td>0.00</td>\n",
       "      <td>0.00</td>\n",
       "      <td>0.00</td>\n",
       "      <td>0.00</td>\n",
       "      <td>0.00</td>\n",
       "      <td>0.00</td>\n",
       "      <td>0.00</td>\n",
       "      <td>0.00</td>\n",
       "      <td>0.00</td>\n",
       "      <td>0.00</td>\n",
       "      <td>0.00</td>\n",
       "      <td>0.00</td>\n",
       "    </tr>\n",
       "    <tr>\n",
       "      <th>STOXX 50</th>\n",
       "      <td>0.00</td>\n",
       "      <td>100.00</td>\n",
       "      <td>0.00</td>\n",
       "      <td>0.00</td>\n",
       "      <td>0.00</td>\n",
       "      <td>0.00</td>\n",
       "      <td>0.00</td>\n",
       "      <td>0.00</td>\n",
       "      <td>0.00</td>\n",
       "      <td>0.00</td>\n",
       "      <td>0.00</td>\n",
       "      <td>0.00</td>\n",
       "      <td>0.00</td>\n",
       "    </tr>\n",
       "    <tr>\n",
       "      <th>MSCI Pacific ex Japan</th>\n",
       "      <td>0.00</td>\n",
       "      <td>0.00</td>\n",
       "      <td>0.00</td>\n",
       "      <td>69.04</td>\n",
       "      <td>12.69</td>\n",
       "      <td>0.00</td>\n",
       "      <td>0.00</td>\n",
       "      <td>0.00</td>\n",
       "      <td>0.00</td>\n",
       "      <td>0.00</td>\n",
       "      <td>16.21</td>\n",
       "      <td>1.62</td>\n",
       "      <td>0.00</td>\n",
       "    </tr>\n",
       "    <tr>\n",
       "      <th>MSCI Switzerland 20/35</th>\n",
       "      <td>0.00</td>\n",
       "      <td>100.00</td>\n",
       "      <td>0.00</td>\n",
       "      <td>0.00</td>\n",
       "      <td>0.00</td>\n",
       "      <td>0.00</td>\n",
       "      <td>0.00</td>\n",
       "      <td>0.00</td>\n",
       "      <td>0.00</td>\n",
       "      <td>0.00</td>\n",
       "      <td>0.00</td>\n",
       "      <td>0.00</td>\n",
       "      <td>0.00</td>\n",
       "    </tr>\n",
       "    <tr>\n",
       "      <th>MSCI World</th>\n",
       "      <td>74.72</td>\n",
       "      <td>16.45</td>\n",
       "      <td>0.00</td>\n",
       "      <td>1.88</td>\n",
       "      <td>0.34</td>\n",
       "      <td>5.92</td>\n",
       "      <td>0.00</td>\n",
       "      <td>0.00</td>\n",
       "      <td>0.00</td>\n",
       "      <td>0.00</td>\n",
       "      <td>0.45</td>\n",
       "      <td>0.04</td>\n",
       "      <td>0.20</td>\n",
       "    </tr>\n",
       "    <tr>\n",
       "      <th>MSCI Emerging Markets</th>\n",
       "      <td>0.00</td>\n",
       "      <td>0.00</td>\n",
       "      <td>24.54</td>\n",
       "      <td>0.00</td>\n",
       "      <td>0.00</td>\n",
       "      <td>0.00</td>\n",
       "      <td>20.01</td>\n",
       "      <td>18.45</td>\n",
       "      <td>12.11</td>\n",
       "      <td>4.32</td>\n",
       "      <td>0.00</td>\n",
       "      <td>0.00</td>\n",
       "      <td>20.58</td>\n",
       "    </tr>\n",
       "  </tbody>\n",
       "</table>\n",
       "</div>"
      ],
      "text/plain": [
       "                           USA  Europe  China  Australia  Singapore  Japan  \\\n",
       "S&P 500                 100.00    0.00   0.00       0.00       0.00   0.00   \n",
       "STOXX 50                  0.00  100.00   0.00       0.00       0.00   0.00   \n",
       "MSCI Pacific ex Japan     0.00    0.00   0.00      69.04      12.69   0.00   \n",
       "MSCI Switzerland 20/35    0.00  100.00   0.00       0.00       0.00   0.00   \n",
       "MSCI World               74.72   16.45   0.00       1.88       0.34   5.92   \n",
       "MSCI Emerging Markets     0.00    0.00  24.54       0.00       0.00   0.00   \n",
       "\n",
       "                        India  Taiwan  South Korea  Brazil  Hong Kong  \\\n",
       "S&P 500                  0.00    0.00         0.00    0.00       0.00   \n",
       "STOXX 50                 0.00    0.00         0.00    0.00       0.00   \n",
       "MSCI Pacific ex Japan    0.00    0.00         0.00    0.00      16.21   \n",
       "MSCI Switzerland 20/35   0.00    0.00         0.00    0.00       0.00   \n",
       "MSCI World               0.00    0.00         0.00    0.00       0.45   \n",
       "MSCI Emerging Markets   20.01   18.45        12.11    4.32       0.00   \n",
       "\n",
       "                        New Zeland  Other  \n",
       "S&P 500                       0.00   0.00  \n",
       "STOXX 50                      0.00   0.00  \n",
       "MSCI Pacific ex Japan         1.62   0.00  \n",
       "MSCI Switzerland 20/35        0.00   0.00  \n",
       "MSCI World                    0.04   0.20  \n",
       "MSCI Emerging Markets         0.00  20.58  "
      ]
     },
     "execution_count": 4,
     "metadata": {},
     "output_type": "execute_result"
    }
   ],
   "source": [
    "country_exposure = pd.DataFrame({\n",
    "    'USA': [100.00, 0.00, 0.00, 0.00, 74.72, 0.00],\n",
    "    'Europe': [0.00, 100.00, 0.00, 100.00, 16.45, 0.00],\n",
    "    'China': [0.00, 0.00, 0.00, 0.00, 0.00, 24.54],\n",
    "    'Australia': [0.00, 0.00, 69.04, 0.00, 1.88, 0.00],\n",
    "    'Singapore': [0.00, 0.00, 12.69, 0.00, 0.34, 0.00],\n",
    "    'Japan': [0.00, 0.00, 0.00, 0.00, 5.92, 0.00],\n",
    "    'India': [0.00, 0.00, 0.00, 0.00, 0.00, 20.01],\n",
    "    'Taiwan': [0.00, 0.00, 0.00, 0.00, 0.00, 18.45],\n",
    "    'South Korea': [0.00, 0.00, 0.00, 0.00, 0.00, 12.11],\n",
    "    'Brazil': [0.00, 0.00, 0.00, 0.00, 0.00, 4.32],\n",
    "    'Hong Kong': [0.00, 0.00, 16.21, 0.00, 0.45, 0.00],\n",
    "    'New Zeland': [0.00, 0.00, 1.62, 0.00, 0.04, 0.00],\n",
    "    'Other': [0.00, 0.00, 0.00, 0.00, 0.20, 20.58]\n",
    "}, index=[\n",
    "    'S&P 500',\n",
    "    'STOXX 50',\n",
    "    'MSCI Pacific ex Japan',\n",
    "    'MSCI Switzerland 20/35',\n",
    "    'MSCI World',\n",
    "    'MSCI Emerging Markets'\n",
    "])\n",
    "\n",
    "country_exposure"
   ]
  },
  {
   "cell_type": "markdown",
   "metadata": {},
   "source": [
    "### Fees"
   ]
  },
  {
   "cell_type": "code",
   "execution_count": 5,
   "metadata": {},
   "outputs": [
    {
     "data": {
      "text/html": [
       "<div>\n",
       "<style scoped>\n",
       "    .dataframe tbody tr th:only-of-type {\n",
       "        vertical-align: middle;\n",
       "    }\n",
       "\n",
       "    .dataframe tbody tr th {\n",
       "        vertical-align: top;\n",
       "    }\n",
       "\n",
       "    .dataframe thead th {\n",
       "        text-align: right;\n",
       "    }\n",
       "</style>\n",
       "<table border=\"1\" class=\"dataframe\">\n",
       "  <thead>\n",
       "    <tr style=\"text-align: right;\">\n",
       "      <th></th>\n",
       "      <th>Management</th>\n",
       "      <th>Transaction</th>\n",
       "      <th>Total</th>\n",
       "    </tr>\n",
       "  </thead>\n",
       "  <tbody>\n",
       "    <tr>\n",
       "      <th>S&amp;P 500</th>\n",
       "      <td>0.07</td>\n",
       "      <td>0.02</td>\n",
       "      <td>0.09</td>\n",
       "    </tr>\n",
       "    <tr>\n",
       "      <th>STOXX 50</th>\n",
       "      <td>0.09</td>\n",
       "      <td>0.01</td>\n",
       "      <td>0.10</td>\n",
       "    </tr>\n",
       "    <tr>\n",
       "      <th>MSCI Pacific ex Japan</th>\n",
       "      <td>0.20</td>\n",
       "      <td>0.02</td>\n",
       "      <td>0.22</td>\n",
       "    </tr>\n",
       "    <tr>\n",
       "      <th>MSCI Switzerland 20/35</th>\n",
       "      <td>0.20</td>\n",
       "      <td>0.00</td>\n",
       "      <td>0.20</td>\n",
       "    </tr>\n",
       "    <tr>\n",
       "      <th>MSCI World</th>\n",
       "      <td>0.12</td>\n",
       "      <td>0.00</td>\n",
       "      <td>0.12</td>\n",
       "    </tr>\n",
       "    <tr>\n",
       "      <th>MSCI Emerging Markets</th>\n",
       "      <td>0.18</td>\n",
       "      <td>0.03</td>\n",
       "      <td>0.21</td>\n",
       "    </tr>\n",
       "    <tr>\n",
       "      <th>Gold</th>\n",
       "      <td>0.12</td>\n",
       "      <td>0.00</td>\n",
       "      <td>0.12</td>\n",
       "    </tr>\n",
       "    <tr>\n",
       "      <th>Commodity</th>\n",
       "      <td>0.19</td>\n",
       "      <td>0.00</td>\n",
       "      <td>0.19</td>\n",
       "    </tr>\n",
       "  </tbody>\n",
       "</table>\n",
       "</div>"
      ],
      "text/plain": [
       "                        Management  Transaction  Total\n",
       "S&P 500                       0.07         0.02   0.09\n",
       "STOXX 50                      0.09         0.01   0.10\n",
       "MSCI Pacific ex Japan         0.20         0.02   0.22\n",
       "MSCI Switzerland 20/35        0.20         0.00   0.20\n",
       "MSCI World                    0.12         0.00   0.12\n",
       "MSCI Emerging Markets         0.18         0.03   0.21\n",
       "Gold                          0.12         0.00   0.12\n",
       "Commodity                     0.19         0.00   0.19"
      ]
     },
     "execution_count": 5,
     "metadata": {},
     "output_type": "execute_result"
    }
   ],
   "source": [
    "fees = pd.DataFrame({\n",
    "    'Management': [0.07, 0.09, 0.20, 0.20, 0.12, 0.18, 0.12, 0.19],\n",
    "    'Transaction': [0.02, 0.01, 0.02, 0.00, 0.00, 0.03, 0.00, 0.00],\n",
    "    'Total': [0.09, 0.10, 0.22, 0.20, 0.12, 0.21, 0.12, 0.19]\n",
    "}, index=[\n",
    "    'S&P 500',\n",
    "    'STOXX 50',\n",
    "    'MSCI Pacific ex Japan',\n",
    "    'MSCI Switzerland 20/35',\n",
    "    'MSCI World',\n",
    "    'MSCI Emerging Markets',\n",
    "    'Gold',\n",
    "    'Commodity'\n",
    "])\n",
    "\n",
    "fees"
   ]
  },
  {
   "cell_type": "markdown",
   "metadata": {},
   "source": [
    "### Portfolio weights"
   ]
  },
  {
   "cell_type": "code",
   "execution_count": 6,
   "metadata": {},
   "outputs": [
    {
     "data": {
      "text/html": [
       "<div>\n",
       "<style scoped>\n",
       "    .dataframe tbody tr th:only-of-type {\n",
       "        vertical-align: middle;\n",
       "    }\n",
       "\n",
       "    .dataframe tbody tr th {\n",
       "        vertical-align: top;\n",
       "    }\n",
       "\n",
       "    .dataframe thead th {\n",
       "        text-align: right;\n",
       "    }\n",
       "</style>\n",
       "<table border=\"1\" class=\"dataframe\">\n",
       "  <thead>\n",
       "    <tr style=\"text-align: right;\">\n",
       "      <th></th>\n",
       "      <th>Market Cap</th>\n",
       "      <th>Diversified</th>\n",
       "      <th>Growth</th>\n",
       "      <th>Conservative</th>\n",
       "      <th>Stability</th>\n",
       "      <th>Aggressive</th>\n",
       "      <th>Defensive</th>\n",
       "    </tr>\n",
       "  </thead>\n",
       "  <tbody>\n",
       "    <tr>\n",
       "      <th>S&amp;P 500</th>\n",
       "      <td>53.97</td>\n",
       "      <td>25.0</td>\n",
       "      <td>25.0</td>\n",
       "      <td>20.0</td>\n",
       "      <td>25.0</td>\n",
       "      <td>25.0</td>\n",
       "      <td>15.0</td>\n",
       "    </tr>\n",
       "    <tr>\n",
       "      <th>STOXX 50</th>\n",
       "      <td>8.78</td>\n",
       "      <td>15.0</td>\n",
       "      <td>10.0</td>\n",
       "      <td>15.0</td>\n",
       "      <td>15.0</td>\n",
       "      <td>10.0</td>\n",
       "      <td>10.0</td>\n",
       "    </tr>\n",
       "    <tr>\n",
       "      <th>MSCI Pacific ex Japan</th>\n",
       "      <td>2.41</td>\n",
       "      <td>10.0</td>\n",
       "      <td>15.0</td>\n",
       "      <td>3.0</td>\n",
       "      <td>3.0</td>\n",
       "      <td>20.0</td>\n",
       "      <td>3.0</td>\n",
       "    </tr>\n",
       "    <tr>\n",
       "      <th>MSCI Switzerland 20/35</th>\n",
       "      <td>1.70</td>\n",
       "      <td>10.0</td>\n",
       "      <td>5.0</td>\n",
       "      <td>20.0</td>\n",
       "      <td>25.0</td>\n",
       "      <td>1.0</td>\n",
       "      <td>25.0</td>\n",
       "    </tr>\n",
       "    <tr>\n",
       "      <th>MSCI World</th>\n",
       "      <td>8.36</td>\n",
       "      <td>20.0</td>\n",
       "      <td>20.0</td>\n",
       "      <td>15.0</td>\n",
       "      <td>10.0</td>\n",
       "      <td>15.0</td>\n",
       "      <td>10.0</td>\n",
       "    </tr>\n",
       "    <tr>\n",
       "      <th>MSCI Emerging Markets</th>\n",
       "      <td>10.34</td>\n",
       "      <td>10.0</td>\n",
       "      <td>20.0</td>\n",
       "      <td>2.0</td>\n",
       "      <td>2.0</td>\n",
       "      <td>25.0</td>\n",
       "      <td>2.0</td>\n",
       "    </tr>\n",
       "    <tr>\n",
       "      <th>Gold</th>\n",
       "      <td>13.46</td>\n",
       "      <td>5.0</td>\n",
       "      <td>3.0</td>\n",
       "      <td>15.0</td>\n",
       "      <td>15.0</td>\n",
       "      <td>3.0</td>\n",
       "      <td>20.0</td>\n",
       "    </tr>\n",
       "    <tr>\n",
       "      <th>Commodity</th>\n",
       "      <td>0.99</td>\n",
       "      <td>5.0</td>\n",
       "      <td>2.0</td>\n",
       "      <td>10.0</td>\n",
       "      <td>5.0</td>\n",
       "      <td>1.0</td>\n",
       "      <td>15.0</td>\n",
       "    </tr>\n",
       "  </tbody>\n",
       "</table>\n",
       "</div>"
      ],
      "text/plain": [
       "                        Market Cap  Diversified  Growth  Conservative  \\\n",
       "S&P 500                      53.97         25.0    25.0          20.0   \n",
       "STOXX 50                      8.78         15.0    10.0          15.0   \n",
       "MSCI Pacific ex Japan         2.41         10.0    15.0           3.0   \n",
       "MSCI Switzerland 20/35        1.70         10.0     5.0          20.0   \n",
       "MSCI World                    8.36         20.0    20.0          15.0   \n",
       "MSCI Emerging Markets        10.34         10.0    20.0           2.0   \n",
       "Gold                         13.46          5.0     3.0          15.0   \n",
       "Commodity                     0.99          5.0     2.0          10.0   \n",
       "\n",
       "                        Stability  Aggressive  Defensive  \n",
       "S&P 500                      25.0        25.0       15.0  \n",
       "STOXX 50                     15.0        10.0       10.0  \n",
       "MSCI Pacific ex Japan         3.0        20.0        3.0  \n",
       "MSCI Switzerland 20/35       25.0         1.0       25.0  \n",
       "MSCI World                   10.0        15.0       10.0  \n",
       "MSCI Emerging Markets         2.0        25.0        2.0  \n",
       "Gold                         15.0         3.0       20.0  \n",
       "Commodity                     5.0         1.0       15.0  "
      ]
     },
     "execution_count": 6,
     "metadata": {},
     "output_type": "execute_result"
    }
   ],
   "source": [
    "weights_table = pd.DataFrame({\n",
    "    'Market Cap': [53.97, 8.78, 2.41, 1.70, 8.36, 10.34, 13.46, 0.99],\n",
    "    'Diversified': [25.00, 15.00, 10.00, 10.00, 20.00, 10.00, 5.00, 5.00],\n",
    "    'Growth': [25.00, 10.00, 15.00, 5.00, 20.00, 20.00, 3.00, 2.00],\n",
    "    'Conservative': [20.00, 15.00, 3.00, 20.00, 15.00, 2.00, 15.00, 10.00],\n",
    "    'Stability': [25.00, 15.00, 3.00, 25.00, 10.00, 2.00, 15.00, 5.00],\n",
    "    'Aggressive': [25.00, 10.00, 20.00, 1.00, 15.00, 25.00, 3.00, 1.00],\n",
    "    'Defensive': [15.00, 10.00, 3.00, 25.00, 10.00, 2.00, 20.00, 15.00]\n",
    "}, index=[\n",
    "    'S&P 500',\n",
    "    'STOXX 50',\n",
    "    'MSCI Pacific ex Japan',\n",
    "    'MSCI Switzerland 20/35',\n",
    "    'MSCI World',\n",
    "    'MSCI Emerging Markets',\n",
    "    'Gold',\n",
    "    'Commodity'\n",
    "])\n",
    "\n",
    "weights_table"
   ]
  },
  {
   "cell_type": "markdown",
   "metadata": {},
   "source": [
    "### Portfolio Analysis - Market Cap"
   ]
  },
  {
   "cell_type": "code",
   "execution_count": 7,
   "metadata": {},
   "outputs": [
    {
     "ename": "NameError",
     "evalue": "name 'go' is not defined",
     "output_type": "error",
     "traceback": [
      "\u001b[0;31m---------------------------------------------------------------------------\u001b[0m",
      "\u001b[0;31mNameError\u001b[0m                                 Traceback (most recent call last)",
      "Cell \u001b[0;32mIn[7], line 35\u001b[0m\n\u001b[1;32m     33\u001b[0m fig\u001b[38;5;241m.\u001b[39mupdate_layout(title\u001b[38;5;241m=\u001b[39m\u001b[38;5;124mf\u001b[39m\u001b[38;5;124m'\u001b[39m\u001b[38;5;132;01m{\u001b[39;00mweight_name\u001b[38;5;132;01m}\u001b[39;00m\u001b[38;5;124m weights\u001b[39m\u001b[38;5;124m'\u001b[39m)\n\u001b[1;32m     34\u001b[0m \u001b[38;5;66;03m# Plot the weighted sector exposure\u001b[39;00m\n\u001b[0;32m---> 35\u001b[0m fig\u001b[38;5;241m.\u001b[39madd_trace(\u001b[43mgo\u001b[49m\u001b[38;5;241m.\u001b[39mBar(x\u001b[38;5;241m=\u001b[39msector_exposure_weighted\u001b[38;5;241m.\u001b[39mindex, y\u001b[38;5;241m=\u001b[39msector_exposure_weighted\u001b[38;5;241m.\u001b[39mvalues), row\u001b[38;5;241m=\u001b[39m\u001b[38;5;241m1\u001b[39m, col\u001b[38;5;241m=\u001b[39m\u001b[38;5;241m1\u001b[39m)\n\u001b[1;32m     36\u001b[0m fig\u001b[38;5;241m.\u001b[39mupdate_layout(title_x\u001b[38;5;241m=\u001b[39m\u001b[38;5;241m0.5\u001b[39m, showlegend\u001b[38;5;241m=\u001b[39m\u001b[38;5;28;01mFalse\u001b[39;00m)\n\u001b[1;32m     37\u001b[0m \u001b[38;5;66;03m# Plot the weighted country exposure\u001b[39;00m\n",
      "\u001b[0;31mNameError\u001b[0m: name 'go' is not defined"
     ]
    }
   ],
   "source": [
    "# Calculate weights\n",
    "weight_name = 'Aggressive'\n",
    "weights = weights_table[weight_name] / 100\n",
    "weights = weights[:-2]\n",
    "\n",
    "# Apply weights to all columns in sector_exposure\n",
    "sector_exposure_weighted = pd.DataFrame()\n",
    "for col in sector_exposure.columns:\n",
    "    sector_exposure_weighted[col] = sector_exposure[col] * weights\n",
    "\n",
    "# Compute the sum of all columns\n",
    "sector_exposure_weighted = sector_exposure_weighted.sum(axis=0)\n",
    "# Compute the sum of all values\n",
    "total_sector_exposure_weighted = sector_exposure_weighted.sum(axis=0).sum()\n",
    "# Normalize the values\n",
    "sector_exposure_weighted = sector_exposure_weighted / total_sector_exposure_weighted * 100\n",
    "\n",
    "# Apply weights to all columns in sector_exposure\n",
    "country_exposure_weighted = pd.DataFrame()\n",
    "for col in country_exposure.columns:\n",
    "    country_exposure_weighted[col] = country_exposure[col] * weights\n",
    "\n",
    "# Compute the sum of all columns\n",
    "country_exposure_weighted = country_exposure_weighted.sum(axis=0)\n",
    "# Compute the sum of all values\n",
    "total_country_exposure_weighted = country_exposure_weighted.sum(axis=0).sum()\n",
    "# Normalize the values\n",
    "country_exposure_weighted = country_exposure_weighted / total_country_exposure_weighted * 100\n",
    "\n",
    "## Plot the weighted sector and country exposure\n",
    "fig = make_subplots(rows=2, cols=1, subplot_titles=['Sector exposure', 'Country exposure'],vertical_spacing=0.1)\n",
    "# Plot the title of the graps: weight_name\n",
    "fig.update_layout(title=f'{weight_name} weights')\n",
    "# Plot the weighted sector exposure\n",
    "fig.add_trace(go.Bar(x=sector_exposure_weighted.index, y=sector_exposure_weighted.values), row=1, col=1)\n",
    "fig.update_layout(title_x=0.5, showlegend=False)\n",
    "# Plot the weighted country exposure\n",
    "fig.add_trace(go.Bar(x=country_exposure_weighted.index, y=country_exposure_weighted.values), row=2, col=1)\n",
    "fig.update_layout(title_x=0.5, showlegend=False)\n",
    "# Update the layout\n",
    "fig.update_traces(texttemplate='%{y:.2f}%', textposition='inside')\n",
    "fig.update_xaxes(tickangle=0, tickfont=dict(size=8))\n",
    "fig.update_layout(barmode='stack', bargap=0, height=800)\n",
    "fig.show()\n"
   ]
  },
  {
   "cell_type": "markdown",
   "metadata": {},
   "source": [
    "### TER Importance\n",
    "Let's compute the average gain of SP500 as an example"
   ]
  },
  {
   "cell_type": "code",
   "execution_count": null,
   "metadata": {},
   "outputs": [
    {
     "name": "stdout",
     "output_type": "stream",
     "text": [
      "The average return of the SP500 index is 10.16%\n"
     ]
    }
   ],
   "source": [
    "# Load the data\n",
    "data = vbt.TVData.pull(\n",
    "    'SP:SPX',              # SP500 index\n",
    "    timeframe='12 month',  # 1 year timeframe\n",
    "    limit=31               # We keep 31 years since we want the returns of the last 30 years\n",
    ")\n",
    "\n",
    "# Compute the returns\n",
    "returns = data.close.pct_change().dropna()\n",
    "# Compute the average returns\n",
    "avg_returns = sum(returns) / len(returns)\n",
    "\n",
    "print(f'The average return of the SP500 index is {avg_returns:.2%}')"
   ]
  },
  {
   "cell_type": "markdown",
   "metadata": {},
   "source": [
    "Let's simulate different ters of investment"
   ]
  },
  {
   "cell_type": "code",
   "execution_count": null,
   "metadata": {},
   "outputs": [
    {
     "name": "stdout",
     "output_type": "stream",
     "text": [
      "Total deposit: 15000\n",
      "Gains with 0.00% TER: 565.51% | Savings after 30 years: 84827.17\n",
      "Gains with 0.01% TER: 564.44% | Savings after 30 years: 84666.40\n",
      "Gains with 0.05% TER: 560.18% | Savings after 30 years: 84026.56\n",
      "Gains with 0.10% TER: 554.89% | Savings after 30 years: 83234.04\n",
      "Gains with 0.20% TER: 544.49% | Savings after 30 years: 81672.91\n",
      "Gains with 0.50% TER: 514.50% | Savings after 30 years: 77175.10\n",
      "Gains with 1.00% TER: 468.40% | Savings after 30 years: 70260.61\n"
     ]
    },
    {
     "data": {
      "application/vnd.plotly.v1+json": {
       "config": {
        "plotlyServerURL": "https://plot.ly"
       },
       "data": [
        {
         "mode": "lines",
         "name": "0.00%",
         "type": "scatter",
         "x": [
          1,
          2,
          3,
          4,
          5,
          6,
          7,
          8,
          9,
          10,
          11,
          12,
          13,
          14,
          15,
          16,
          17,
          18,
          19,
          20,
          21,
          22,
          23,
          24,
          25,
          26,
          27,
          28,
          29,
          30
         ],
         "y": [
          500,
          1050.8149439000213,
          1657.6091487471886,
          2326.0717805506893,
          3062.470194622901,
          3873.708696893401,
          4767.393277128726,
          5751.902920981996,
          6836.468169478134,
          8031.257662490759,
          9347.473477622927,
          10797.456158367619,
          12394.8004162684,
          14154.482591877677,
          16093.00106955786,
          18228.53096262299,
          20581.094519113965,
          23172.748845893588,
          26027.792711120317,
          29172.99436403424,
          32637.84250804231,
          36454.822780170114,
          40659.722329089236,
          45291.96534737546,
          50394.98270387264,
          56016.61914175231,
          62209.58186006631,
          69031.93468459242,
          76547.6424612074,
          84827.17077589768
         ]
        },
        {
         "mode": "lines",
         "name": "0.01%",
         "type": "scatter",
         "x": [
          1,
          2,
          3,
          4,
          5,
          6,
          7,
          8,
          9,
          10,
          11,
          12,
          13,
          14,
          15,
          16,
          17,
          18,
          19,
          20,
          21,
          22,
          23,
          24,
          25,
          26,
          27,
          28,
          29,
          30
         ],
         "y": [
          500,
          1050.7649439000213,
          1657.4489907584084,
          2325.7296008244034,
          3061.860666249343,
          3872.7310361530026,
          4765.92898373336,
          5749.8132187147785,
          6833.591109682092,
          8027.404848319483,
          9342.426361894877,
          10790.961862198224,
          12386.567009321749,
          14144.173768005894,
          16080.230143695839,
          18212.85410598414,
          20562.003139883254,
          23149.661011619723,
          26000.043496738494,
          29139.82499575858,
          32598.388158090824,
          36408.09885024402,
          40604.609041522155,
          45227.190441672494,
          50319.10201272666,
          55927.99479427769,
          62106.35783062207,
          68912.00937283442,
          76408.63795253378,
          84666.39839080861
         ]
        },
        {
         "mode": "lines",
         "name": "0.05%",
         "type": "scatter",
         "x": [
          1,
          2,
          3,
          4,
          5,
          6,
          7,
          8,
          9,
          10,
          11,
          12,
          13,
          14,
          15,
          16,
          17,
          18,
          19,
          20,
          21,
          22,
          23,
          24,
          25,
          26,
          27,
          28,
          29,
          30
         ],
         "y": [
          500,
          1050.5649439000213,
          1656.8084588032884,
          2324.3613123482264,
          3059.423711072762,
          3868.8228877063407,
          4760.07651225832,
          5741.462515862622,
          6822.09597589996,
          8012.013776503845,
          9322.267830774075,
          10765.027730542204,
          12353.693777096285,
          14103.021442690117,
          16029.258418830963,
          18150.295524245226,
          20485.83287414976,
          23057.56285420295,
          25889.371598590926,
          29007.560843570034,
          32441.09221703318,
          36221.85623305258,
          40384.96848981046,
          44969.09582199325,
          50016.81543694079,
          55575.01037019405,
          61695.30493341798,
          68434.54419912396,
          75855.32197562842,
          84026.56217605983
         ]
        },
        {
         "mode": "lines",
         "name": "0.10%",
         "type": "scatter",
         "x": [
          1,
          2,
          3,
          4,
          5,
          6,
          7,
          8,
          9,
          10,
          11,
          12,
          13,
          14,
          15,
          16,
          17,
          18,
          19,
          20,
          21,
          22,
          23,
          24,
          25,
          26,
          27,
          28,
          29,
          30
         ],
         "y": [
          500,
          1050.3149439000213,
          1656.0080188593886,
          2322.65191999318,
          3056.3801221006474,
          3863.9433108619164,
          4752.771492699677,
          5731.0423547492865,
          6807.756503885,
          7992.820277040958,
          9297.136884725496,
          10732.706726297061,
          12312.737799955097,
          14051.767223275923,
          15965.794982346497,
          18072.43114005851,
          20391.057857956595,
          22943.007722326947,
          25751.76001522022,
          28843.156736205456,
          32245.640362368857,
          35990.51553407456,
          40112.23707413418,
          44648.726990313015,
          49641.72337776295,
          55137.164431467994,
          61185.61110181912,
          67842.71228197223,
          75169.71680695767,
          83234.0369752028
         ]
        },
        {
         "mode": "lines",
         "name": "0.20%",
         "type": "scatter",
         "x": [
          1,
          2,
          3,
          4,
          5,
          6,
          7,
          8,
          9,
          10,
          11,
          12,
          13,
          14,
          15,
          16,
          17,
          18,
          19,
          20,
          21,
          22,
          23,
          24,
          25,
          26,
          27,
          28,
          29,
          30
         ],
         "y": [
          500,
          1049.8149439000213,
          1654.4078889715884,
          2319.236361325333,
          3050.3016197859547,
          3854.2028279215174,
          4738.196623225945,
          5710.262621172486,
          6779.175445428678,
          7954.583934433541,
          9247.098239317176,
          10668.385599376317,
          12231.27565964977,
          13949.876281272067,
          15839.700889999678,
          17917.80851245658,
          20202.957764175277,
          22715.776179449058,
          25478.946411498448,
          28517.410983739333,
          31858.597440396985,
          35532.66592885046,
          39572.78144857823,
          44015.413224235686,
          48900.6639052388,
          54272.63156346533,
          60179.80775674643,
          66675.51525137921,
          73818.38935488414,
          81672.90720389111
         ]
        },
        {
         "mode": "lines",
         "name": "0.50%",
         "type": "scatter",
         "x": [
          1,
          2,
          3,
          4,
          5,
          6,
          7,
          8,
          9,
          10,
          11,
          12,
          13,
          14,
          15,
          16,
          17,
          18,
          19,
          20,
          21,
          22,
          23,
          24,
          25,
          26,
          27,
          28,
          29,
          30
         ],
         "y": [
          500,
          1048.3149439000213,
          1649.6134993081882,
          2309.015466659774,
          3032.1353721316714,
          3825.1302729352956,
          4694.75218202958,
          5648.405558628104,
          6694.210354007475,
          7841.071149425101,
          9098.7529748262,
          10477.96445390396,
          11990.448983457534,
          13649.08472340117,
          15467.994248796702,
          17462.66479754963,
          19650.080137626606,
          22048.86517658731,
          24679.444544719212,
          27564.216502042804,
          30727.743649931286,
          34196.96207117262,
          38001.41067921234,
          42173.48272938797,
          46748.70163366577,
          51766.023427324566,
          57268.168462961316,
          63301.98515605121,
          69918.8488792004,
          77175.09940150568
         ]
        },
        {
         "mode": "lines",
         "name": "1.00%",
         "type": "scatter",
         "x": [
          1,
          2,
          3,
          4,
          5,
          6,
          7,
          8,
          9,
          10,
          11,
          12,
          13,
          14,
          15,
          16,
          17,
          18,
          19,
          20,
          21,
          22,
          23,
          24,
          25,
          26,
          27,
          28,
          29,
          30
         ],
         "y": [
          500,
          1045.8149439000213,
          1641.642849869188,
          2292.066400010444,
          3002.0881870736484,
          3777.16919082104,
          4623.270779977749,
          5546.900562816325,
          6555.162439025177,
          7655.811237824108,
          8857.312362564235,
          10168.906900555925,
          11600.682698902943,
          13163.651953007315,
          14869.835904500185,
          16732.357300034582,
          18765.541322066972,
          20985.02576791503,
          23407.881324510086,
          26052.74286391166,
          28939.952769415242,
          32091.71739461529,
          35532.277858794565,
          39288.09649227585,
          43388.06036574033,
          47863.703468914595,
          52749.449247465745,
          58082.87536352507,
          63905.00271618873,
          70260.61094493451
         ]
        }
       ],
       "layout": {
        "template": {
         "data": {
          "bar": [
           {
            "error_x": {
             "color": "#2a3f5f"
            },
            "error_y": {
             "color": "#2a3f5f"
            },
            "marker": {
             "line": {
              "color": "#E5ECF6",
              "width": 0.5
             },
             "pattern": {
              "fillmode": "overlay",
              "size": 10,
              "solidity": 0.2
             }
            },
            "type": "bar"
           }
          ],
          "barpolar": [
           {
            "marker": {
             "line": {
              "color": "#E5ECF6",
              "width": 0.5
             },
             "pattern": {
              "fillmode": "overlay",
              "size": 10,
              "solidity": 0.2
             }
            },
            "type": "barpolar"
           }
          ],
          "carpet": [
           {
            "aaxis": {
             "endlinecolor": "#2a3f5f",
             "gridcolor": "white",
             "linecolor": "white",
             "minorgridcolor": "white",
             "startlinecolor": "#2a3f5f"
            },
            "baxis": {
             "endlinecolor": "#2a3f5f",
             "gridcolor": "white",
             "linecolor": "white",
             "minorgridcolor": "white",
             "startlinecolor": "#2a3f5f"
            },
            "type": "carpet"
           }
          ],
          "choropleth": [
           {
            "colorbar": {
             "outlinewidth": 0,
             "ticks": ""
            },
            "type": "choropleth"
           }
          ],
          "contour": [
           {
            "colorbar": {
             "outlinewidth": 0,
             "ticks": ""
            },
            "colorscale": [
             [
              0,
              "#0d0887"
             ],
             [
              0.1111111111111111,
              "#46039f"
             ],
             [
              0.2222222222222222,
              "#7201a8"
             ],
             [
              0.3333333333333333,
              "#9c179e"
             ],
             [
              0.4444444444444444,
              "#bd3786"
             ],
             [
              0.5555555555555556,
              "#d8576b"
             ],
             [
              0.6666666666666666,
              "#ed7953"
             ],
             [
              0.7777777777777778,
              "#fb9f3a"
             ],
             [
              0.8888888888888888,
              "#fdca26"
             ],
             [
              1,
              "#f0f921"
             ]
            ],
            "type": "contour"
           }
          ],
          "contourcarpet": [
           {
            "colorbar": {
             "outlinewidth": 0,
             "ticks": ""
            },
            "type": "contourcarpet"
           }
          ],
          "heatmap": [
           {
            "colorbar": {
             "outlinewidth": 0,
             "ticks": ""
            },
            "colorscale": [
             [
              0,
              "#0d0887"
             ],
             [
              0.1111111111111111,
              "#46039f"
             ],
             [
              0.2222222222222222,
              "#7201a8"
             ],
             [
              0.3333333333333333,
              "#9c179e"
             ],
             [
              0.4444444444444444,
              "#bd3786"
             ],
             [
              0.5555555555555556,
              "#d8576b"
             ],
             [
              0.6666666666666666,
              "#ed7953"
             ],
             [
              0.7777777777777778,
              "#fb9f3a"
             ],
             [
              0.8888888888888888,
              "#fdca26"
             ],
             [
              1,
              "#f0f921"
             ]
            ],
            "type": "heatmap"
           }
          ],
          "heatmapgl": [
           {
            "colorbar": {
             "outlinewidth": 0,
             "ticks": ""
            },
            "colorscale": [
             [
              0,
              "#0d0887"
             ],
             [
              0.1111111111111111,
              "#46039f"
             ],
             [
              0.2222222222222222,
              "#7201a8"
             ],
             [
              0.3333333333333333,
              "#9c179e"
             ],
             [
              0.4444444444444444,
              "#bd3786"
             ],
             [
              0.5555555555555556,
              "#d8576b"
             ],
             [
              0.6666666666666666,
              "#ed7953"
             ],
             [
              0.7777777777777778,
              "#fb9f3a"
             ],
             [
              0.8888888888888888,
              "#fdca26"
             ],
             [
              1,
              "#f0f921"
             ]
            ],
            "type": "heatmapgl"
           }
          ],
          "histogram": [
           {
            "marker": {
             "pattern": {
              "fillmode": "overlay",
              "size": 10,
              "solidity": 0.2
             }
            },
            "type": "histogram"
           }
          ],
          "histogram2d": [
           {
            "colorbar": {
             "outlinewidth": 0,
             "ticks": ""
            },
            "colorscale": [
             [
              0,
              "#0d0887"
             ],
             [
              0.1111111111111111,
              "#46039f"
             ],
             [
              0.2222222222222222,
              "#7201a8"
             ],
             [
              0.3333333333333333,
              "#9c179e"
             ],
             [
              0.4444444444444444,
              "#bd3786"
             ],
             [
              0.5555555555555556,
              "#d8576b"
             ],
             [
              0.6666666666666666,
              "#ed7953"
             ],
             [
              0.7777777777777778,
              "#fb9f3a"
             ],
             [
              0.8888888888888888,
              "#fdca26"
             ],
             [
              1,
              "#f0f921"
             ]
            ],
            "type": "histogram2d"
           }
          ],
          "histogram2dcontour": [
           {
            "colorbar": {
             "outlinewidth": 0,
             "ticks": ""
            },
            "colorscale": [
             [
              0,
              "#0d0887"
             ],
             [
              0.1111111111111111,
              "#46039f"
             ],
             [
              0.2222222222222222,
              "#7201a8"
             ],
             [
              0.3333333333333333,
              "#9c179e"
             ],
             [
              0.4444444444444444,
              "#bd3786"
             ],
             [
              0.5555555555555556,
              "#d8576b"
             ],
             [
              0.6666666666666666,
              "#ed7953"
             ],
             [
              0.7777777777777778,
              "#fb9f3a"
             ],
             [
              0.8888888888888888,
              "#fdca26"
             ],
             [
              1,
              "#f0f921"
             ]
            ],
            "type": "histogram2dcontour"
           }
          ],
          "mesh3d": [
           {
            "colorbar": {
             "outlinewidth": 0,
             "ticks": ""
            },
            "type": "mesh3d"
           }
          ],
          "parcoords": [
           {
            "line": {
             "colorbar": {
              "outlinewidth": 0,
              "ticks": ""
             }
            },
            "type": "parcoords"
           }
          ],
          "pie": [
           {
            "automargin": true,
            "type": "pie"
           }
          ],
          "scatter": [
           {
            "fillpattern": {
             "fillmode": "overlay",
             "size": 10,
             "solidity": 0.2
            },
            "type": "scatter"
           }
          ],
          "scatter3d": [
           {
            "line": {
             "colorbar": {
              "outlinewidth": 0,
              "ticks": ""
             }
            },
            "marker": {
             "colorbar": {
              "outlinewidth": 0,
              "ticks": ""
             }
            },
            "type": "scatter3d"
           }
          ],
          "scattercarpet": [
           {
            "marker": {
             "colorbar": {
              "outlinewidth": 0,
              "ticks": ""
             }
            },
            "type": "scattercarpet"
           }
          ],
          "scattergeo": [
           {
            "marker": {
             "colorbar": {
              "outlinewidth": 0,
              "ticks": ""
             }
            },
            "type": "scattergeo"
           }
          ],
          "scattergl": [
           {
            "marker": {
             "colorbar": {
              "outlinewidth": 0,
              "ticks": ""
             }
            },
            "type": "scattergl"
           }
          ],
          "scattermapbox": [
           {
            "marker": {
             "colorbar": {
              "outlinewidth": 0,
              "ticks": ""
             }
            },
            "type": "scattermapbox"
           }
          ],
          "scatterpolar": [
           {
            "marker": {
             "colorbar": {
              "outlinewidth": 0,
              "ticks": ""
             }
            },
            "type": "scatterpolar"
           }
          ],
          "scatterpolargl": [
           {
            "marker": {
             "colorbar": {
              "outlinewidth": 0,
              "ticks": ""
             }
            },
            "type": "scatterpolargl"
           }
          ],
          "scatterternary": [
           {
            "marker": {
             "colorbar": {
              "outlinewidth": 0,
              "ticks": ""
             }
            },
            "type": "scatterternary"
           }
          ],
          "surface": [
           {
            "colorbar": {
             "outlinewidth": 0,
             "ticks": ""
            },
            "colorscale": [
             [
              0,
              "#0d0887"
             ],
             [
              0.1111111111111111,
              "#46039f"
             ],
             [
              0.2222222222222222,
              "#7201a8"
             ],
             [
              0.3333333333333333,
              "#9c179e"
             ],
             [
              0.4444444444444444,
              "#bd3786"
             ],
             [
              0.5555555555555556,
              "#d8576b"
             ],
             [
              0.6666666666666666,
              "#ed7953"
             ],
             [
              0.7777777777777778,
              "#fb9f3a"
             ],
             [
              0.8888888888888888,
              "#fdca26"
             ],
             [
              1,
              "#f0f921"
             ]
            ],
            "type": "surface"
           }
          ],
          "table": [
           {
            "cells": {
             "fill": {
              "color": "#EBF0F8"
             },
             "line": {
              "color": "white"
             }
            },
            "header": {
             "fill": {
              "color": "#C8D4E3"
             },
             "line": {
              "color": "white"
             }
            },
            "type": "table"
           }
          ]
         },
         "layout": {
          "annotationdefaults": {
           "arrowcolor": "#2a3f5f",
           "arrowhead": 0,
           "arrowwidth": 1
          },
          "autotypenumbers": "strict",
          "coloraxis": {
           "colorbar": {
            "outlinewidth": 0,
            "ticks": ""
           }
          },
          "colorscale": {
           "diverging": [
            [
             0,
             "#8e0152"
            ],
            [
             0.1,
             "#c51b7d"
            ],
            [
             0.2,
             "#de77ae"
            ],
            [
             0.3,
             "#f1b6da"
            ],
            [
             0.4,
             "#fde0ef"
            ],
            [
             0.5,
             "#f7f7f7"
            ],
            [
             0.6,
             "#e6f5d0"
            ],
            [
             0.7,
             "#b8e186"
            ],
            [
             0.8,
             "#7fbc41"
            ],
            [
             0.9,
             "#4d9221"
            ],
            [
             1,
             "#276419"
            ]
           ],
           "sequential": [
            [
             0,
             "#0d0887"
            ],
            [
             0.1111111111111111,
             "#46039f"
            ],
            [
             0.2222222222222222,
             "#7201a8"
            ],
            [
             0.3333333333333333,
             "#9c179e"
            ],
            [
             0.4444444444444444,
             "#bd3786"
            ],
            [
             0.5555555555555556,
             "#d8576b"
            ],
            [
             0.6666666666666666,
             "#ed7953"
            ],
            [
             0.7777777777777778,
             "#fb9f3a"
            ],
            [
             0.8888888888888888,
             "#fdca26"
            ],
            [
             1,
             "#f0f921"
            ]
           ],
           "sequentialminus": [
            [
             0,
             "#0d0887"
            ],
            [
             0.1111111111111111,
             "#46039f"
            ],
            [
             0.2222222222222222,
             "#7201a8"
            ],
            [
             0.3333333333333333,
             "#9c179e"
            ],
            [
             0.4444444444444444,
             "#bd3786"
            ],
            [
             0.5555555555555556,
             "#d8576b"
            ],
            [
             0.6666666666666666,
             "#ed7953"
            ],
            [
             0.7777777777777778,
             "#fb9f3a"
            ],
            [
             0.8888888888888888,
             "#fdca26"
            ],
            [
             1,
             "#f0f921"
            ]
           ]
          },
          "colorway": [
           "#636efa",
           "#EF553B",
           "#00cc96",
           "#ab63fa",
           "#FFA15A",
           "#19d3f3",
           "#FF6692",
           "#B6E880",
           "#FF97FF",
           "#FECB52"
          ],
          "font": {
           "color": "#2a3f5f"
          },
          "geo": {
           "bgcolor": "white",
           "lakecolor": "white",
           "landcolor": "#E5ECF6",
           "showlakes": true,
           "showland": true,
           "subunitcolor": "white"
          },
          "hoverlabel": {
           "align": "left"
          },
          "hovermode": "closest",
          "mapbox": {
           "style": "light"
          },
          "paper_bgcolor": "white",
          "plot_bgcolor": "#E5ECF6",
          "polar": {
           "angularaxis": {
            "gridcolor": "white",
            "linecolor": "white",
            "ticks": ""
           },
           "bgcolor": "#E5ECF6",
           "radialaxis": {
            "gridcolor": "white",
            "linecolor": "white",
            "ticks": ""
           }
          },
          "scene": {
           "xaxis": {
            "backgroundcolor": "#E5ECF6",
            "gridcolor": "white",
            "gridwidth": 2,
            "linecolor": "white",
            "showbackground": true,
            "ticks": "",
            "zerolinecolor": "white"
           },
           "yaxis": {
            "backgroundcolor": "#E5ECF6",
            "gridcolor": "white",
            "gridwidth": 2,
            "linecolor": "white",
            "showbackground": true,
            "ticks": "",
            "zerolinecolor": "white"
           },
           "zaxis": {
            "backgroundcolor": "#E5ECF6",
            "gridcolor": "white",
            "gridwidth": 2,
            "linecolor": "white",
            "showbackground": true,
            "ticks": "",
            "zerolinecolor": "white"
           }
          },
          "shapedefaults": {
           "line": {
            "color": "#2a3f5f"
           }
          },
          "ternary": {
           "aaxis": {
            "gridcolor": "white",
            "linecolor": "white",
            "ticks": ""
           },
           "baxis": {
            "gridcolor": "white",
            "linecolor": "white",
            "ticks": ""
           },
           "bgcolor": "#E5ECF6",
           "caxis": {
            "gridcolor": "white",
            "linecolor": "white",
            "ticks": ""
           }
          },
          "title": {
           "x": 0.05
          },
          "xaxis": {
           "automargin": true,
           "gridcolor": "white",
           "linecolor": "white",
           "ticks": "",
           "title": {
            "standoff": 15
           },
           "zerolinecolor": "white",
           "zerolinewidth": 2
          },
          "yaxis": {
           "automargin": true,
           "gridcolor": "white",
           "linecolor": "white",
           "ticks": "",
           "title": {
            "standoff": 15
           },
           "zerolinecolor": "white",
           "zerolinewidth": 2
          }
         }
        },
        "title": {
         "text": "Savings over time with different TERs"
        },
        "xaxis": {
         "title": {
          "text": "Years"
         }
        },
        "yaxis": {
         "title": {
          "text": "Savings"
         }
        }
       }
      }
     },
     "metadata": {},
     "output_type": "display_data"
    }
   ],
   "source": [
    "ters = [0, 0.0001, 0.0005, 0.001, 0.002, 0.005, 0.01]\n",
    "years = [x for x in range(1, 31)]\n",
    "deposit = 500\n",
    "\n",
    "print(f'Total deposit: {deposit * len(years)}')\n",
    "# Plot results\n",
    "fig = go.Figure()\n",
    "for ter in ters:\n",
    "    savings = 0\n",
    "    ter_savings = []\n",
    "    for year in years:\n",
    "        savings = savings * (1 + avg_returns - ter) + deposit\n",
    "        ter_savings.append(savings)\n",
    "    fig.add_trace(go.Scatter(x=years, y=ter_savings, mode='lines', name=f'{ter:.2%}'))\n",
    "    print(f'Gains with {ter:.2%} TER: {ter_savings[-1] / (deposit * len(years)):.2%} | Savings after 30 years: {ter_savings[-1]:.2f}')\n",
    "\n",
    "fig.update_layout(title='Savings over time with different TERs', xaxis_title='Years', yaxis_title='Savings')\n",
    "fig.show()"
   ]
  },
  {
   "cell_type": "code",
   "execution_count": null,
   "metadata": {},
   "outputs": [],
   "source": []
  }
 ],
 "metadata": {
  "kernelspec": {
   "display_name": "trading",
   "language": "python",
   "name": "python3"
  },
  "language_info": {
   "codemirror_mode": {
    "name": "ipython",
    "version": 3
   },
   "file_extension": ".py",
   "mimetype": "text/x-python",
   "name": "python",
   "nbconvert_exporter": "python",
   "pygments_lexer": "ipython3",
   "version": "3.11.9"
  }
 },
 "nbformat": 4,
 "nbformat_minor": 2
}
