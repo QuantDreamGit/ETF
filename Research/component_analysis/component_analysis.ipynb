{
 "cells": [
  {
   "cell_type": "markdown",
   "metadata": {},
   "source": [
    "**NOTE**: Note: The data provided is sourced from the KID and Factsheet of each ETF. Please be careful, as errors may be present."
   ]
  },
  {
   "cell_type": "markdown",
   "metadata": {},
   "source": [
    "### Import libraries"
   ]
  },
  {
   "cell_type": "code",
   "execution_count": 26,
   "metadata": {},
   "outputs": [],
   "source": [
    "import plotly.express as px\n",
    "import plotly.graph_objects as go\n",
    "import plotly.io as pio\n",
    "\n",
    "from vectorbtpro import *\n",
    "from plotly.subplots import make_subplots"
   ]
  },
  {
   "cell_type": "markdown",
   "metadata": {},
   "source": [
    "### Sector Exposure"
   ]
  },
  {
   "cell_type": "code",
   "execution_count": 27,
   "metadata": {},
   "outputs": [
    {
     "data": {
      "text/html": [
       "<div>\n",
       "<style scoped>\n",
       "    .dataframe tbody tr th:only-of-type {\n",
       "        vertical-align: middle;\n",
       "    }\n",
       "\n",
       "    .dataframe tbody tr th {\n",
       "        vertical-align: top;\n",
       "    }\n",
       "\n",
       "    .dataframe thead th {\n",
       "        text-align: right;\n",
       "    }\n",
       "</style>\n",
       "<table border=\"1\" class=\"dataframe\">\n",
       "  <thead>\n",
       "    <tr style=\"text-align: right;\">\n",
       "      <th></th>\n",
       "      <th>IT</th>\n",
       "      <th>Financials</th>\n",
       "      <th>Health Care</th>\n",
       "      <th>Consumer Discretionary</th>\n",
       "      <th>Communication Services</th>\n",
       "      <th>Industrials</th>\n",
       "      <th>Consumer staples</th>\n",
       "      <th>Energy</th>\n",
       "      <th>Utilities</th>\n",
       "      <th>Real Estate</th>\n",
       "      <th>Materials</th>\n",
       "    </tr>\n",
       "  </thead>\n",
       "  <tbody>\n",
       "    <tr>\n",
       "      <th>S&amp;P 500</th>\n",
       "      <td>32.40</td>\n",
       "      <td>12.40</td>\n",
       "      <td>11.70</td>\n",
       "      <td>10.00</td>\n",
       "      <td>9.30</td>\n",
       "      <td>8.10</td>\n",
       "      <td>5.80</td>\n",
       "      <td>3.60</td>\n",
       "      <td>2.30</td>\n",
       "      <td>2.20</td>\n",
       "      <td>2.20</td>\n",
       "    </tr>\n",
       "    <tr>\n",
       "      <th>STOXX 50</th>\n",
       "      <td>14.40</td>\n",
       "      <td>13.10</td>\n",
       "      <td>11.20</td>\n",
       "      <td>19.30</td>\n",
       "      <td>0.00</td>\n",
       "      <td>19.60</td>\n",
       "      <td>8.90</td>\n",
       "      <td>6.60</td>\n",
       "      <td>3.90</td>\n",
       "      <td>0.00</td>\n",
       "      <td>3.00</td>\n",
       "    </tr>\n",
       "    <tr>\n",
       "      <th>MSCI Pacific ex Japan</th>\n",
       "      <td>1.28</td>\n",
       "      <td>40.08</td>\n",
       "      <td>7.82</td>\n",
       "      <td>5.46</td>\n",
       "      <td>4.55</td>\n",
       "      <td>7.98</td>\n",
       "      <td>3.57</td>\n",
       "      <td>3.09</td>\n",
       "      <td>3.60</td>\n",
       "      <td>8.54</td>\n",
       "      <td>13.60</td>\n",
       "    </tr>\n",
       "    <tr>\n",
       "      <th>MSCI Switzerland 20/35</th>\n",
       "      <td>1.20</td>\n",
       "      <td>18.20</td>\n",
       "      <td>34.20</td>\n",
       "      <td>6.00</td>\n",
       "      <td>0.90</td>\n",
       "      <td>10.80</td>\n",
       "      <td>18.90</td>\n",
       "      <td>0.00</td>\n",
       "      <td>0.20</td>\n",
       "      <td>0.50</td>\n",
       "      <td>9.30</td>\n",
       "    </tr>\n",
       "    <tr>\n",
       "      <th>MSCI World</th>\n",
       "      <td>24.90</td>\n",
       "      <td>15.43</td>\n",
       "      <td>11.93</td>\n",
       "      <td>10.12</td>\n",
       "      <td>7.43</td>\n",
       "      <td>11.00</td>\n",
       "      <td>6.36</td>\n",
       "      <td>4.26</td>\n",
       "      <td>2.55</td>\n",
       "      <td>2.21</td>\n",
       "      <td>3.72</td>\n",
       "    </tr>\n",
       "    <tr>\n",
       "      <th>MSCI Emerging Markets</th>\n",
       "      <td>24.34</td>\n",
       "      <td>22.30</td>\n",
       "      <td>3.47</td>\n",
       "      <td>12.26</td>\n",
       "      <td>8.81</td>\n",
       "      <td>6.95</td>\n",
       "      <td>5.30</td>\n",
       "      <td>5.14</td>\n",
       "      <td>3.07</td>\n",
       "      <td>1.47</td>\n",
       "      <td>6.90</td>\n",
       "    </tr>\n",
       "  </tbody>\n",
       "</table>\n",
       "</div>"
      ],
      "text/plain": [
       "                           IT  Financials  Health Care  \\\n",
       "S&P 500                 32.40       12.40        11.70   \n",
       "STOXX 50                14.40       13.10        11.20   \n",
       "MSCI Pacific ex Japan    1.28       40.08         7.82   \n",
       "MSCI Switzerland 20/35   1.20       18.20        34.20   \n",
       "MSCI World              24.90       15.43        11.93   \n",
       "MSCI Emerging Markets   24.34       22.30         3.47   \n",
       "\n",
       "                        Consumer Discretionary  Communication Services  \\\n",
       "S&P 500                                  10.00                    9.30   \n",
       "STOXX 50                                 19.30                    0.00   \n",
       "MSCI Pacific ex Japan                     5.46                    4.55   \n",
       "MSCI Switzerland 20/35                    6.00                    0.90   \n",
       "MSCI World                               10.12                    7.43   \n",
       "MSCI Emerging Markets                    12.26                    8.81   \n",
       "\n",
       "                        Industrials  Consumer staples  Energy  Utilities  \\\n",
       "S&P 500                        8.10              5.80    3.60       2.30   \n",
       "STOXX 50                      19.60              8.90    6.60       3.90   \n",
       "MSCI Pacific ex Japan          7.98              3.57    3.09       3.60   \n",
       "MSCI Switzerland 20/35        10.80             18.90    0.00       0.20   \n",
       "MSCI World                    11.00              6.36    4.26       2.55   \n",
       "MSCI Emerging Markets          6.95              5.30    5.14       3.07   \n",
       "\n",
       "                        Real Estate  Materials  \n",
       "S&P 500                        2.20       2.20  \n",
       "STOXX 50                       0.00       3.00  \n",
       "MSCI Pacific ex Japan          8.54      13.60  \n",
       "MSCI Switzerland 20/35         0.50       9.30  \n",
       "MSCI World                     2.21       3.72  \n",
       "MSCI Emerging Markets          1.47       6.90  "
      ]
     },
     "execution_count": 27,
     "metadata": {},
     "output_type": "execute_result"
    }
   ],
   "source": [
    "sector_exposure = pd.DataFrame({\n",
    "    'IT': [32.40, 14.40, 1.28, 1.20, 24.90, 24.34],\n",
    "    'Financials': [12.40, 13.10, 40.08, 18.20, 15.43, 22.30],\n",
    "    'Health Care': [11.70, 11.20, 7.82, 34.20, 11.93, 3.47],\n",
    "    'Consumer Discretionary': [10.00, 19.30, 5.46, 6.00, 10.12, 12.26],\n",
    "    'Communication Services': [9.30, 0.00, 4.55, 0.90, 7.43, 8.81],\n",
    "    'Industrials': [8.10, 19.60, 7.98, 10.80, 11.00, 6.95],\n",
    "    'Consumer staples': [5.80, 8.90, 3.57, 18.90, 6.36, 5.30],\n",
    "    'Energy': [3.60, 6.60, 3.09, 0.00, 4.26, 5.14],\n",
    "    'Utilities': [2.30, 3.90, 3.60, 0.20, 2.55, 3.07],\n",
    "    'Real Estate': [2.20, 0.00, 8.54, 0.50, 2.21, 1.47],\n",
    "    'Materials': [2.20, 3.00, 13.60, 9.30, 3.72, 6.90]\n",
    "}, index=[\n",
    "    'S&P 500',\n",
    "    'STOXX 50',\n",
    "    'MSCI Pacific ex Japan',\n",
    "    'MSCI Switzerland 20/35',\n",
    "    'MSCI World',\n",
    "    'MSCI Emerging Markets'\n",
    "])\n",
    "\n",
    "sector_exposure"
   ]
  },
  {
   "cell_type": "code",
   "execution_count": 35,
   "metadata": {},
   "outputs": [
    {
     "data": {
      "application/vnd.plotly.v1+json": {
       "config": {
        "plotlyServerURL": "https://plot.ly"
       },
       "data": [
        {
         "alignmentgroup": "True",
         "hovertemplate": "variable=IT<br>index=%{x}<br>value=%{y}<extra></extra>",
         "legendgroup": "IT",
         "marker": {
          "color": "#636efa",
          "pattern": {
           "shape": ""
          }
         },
         "name": "IT",
         "offsetgroup": "IT",
         "orientation": "v",
         "showlegend": true,
         "textposition": "inside",
         "texttemplate": "%{y:.2f}%",
         "type": "bar",
         "x": [
          "S&P 500",
          "STOXX 50",
          "MSCI Pacific ex Japan",
          "MSCI Switzerland 20/35",
          "MSCI World",
          "MSCI Emerging Markets"
         ],
         "xaxis": "x",
         "y": [
          32.4,
          14.4,
          1.28,
          1.2,
          24.9,
          24.34
         ],
         "yaxis": "y"
        },
        {
         "alignmentgroup": "True",
         "hovertemplate": "variable=Financials<br>index=%{x}<br>value=%{y}<extra></extra>",
         "legendgroup": "Financials",
         "marker": {
          "color": "#EF553B",
          "pattern": {
           "shape": ""
          }
         },
         "name": "Financials",
         "offsetgroup": "Financials",
         "orientation": "v",
         "showlegend": true,
         "textposition": "inside",
         "texttemplate": "%{y:.2f}%",
         "type": "bar",
         "x": [
          "S&P 500",
          "STOXX 50",
          "MSCI Pacific ex Japan",
          "MSCI Switzerland 20/35",
          "MSCI World",
          "MSCI Emerging Markets"
         ],
         "xaxis": "x",
         "y": [
          12.4,
          13.1,
          40.08,
          18.2,
          15.43,
          22.3
         ],
         "yaxis": "y"
        },
        {
         "alignmentgroup": "True",
         "hovertemplate": "variable=Health Care<br>index=%{x}<br>value=%{y}<extra></extra>",
         "legendgroup": "Health Care",
         "marker": {
          "color": "#00cc96",
          "pattern": {
           "shape": ""
          }
         },
         "name": "Health Care",
         "offsetgroup": "Health Care",
         "orientation": "v",
         "showlegend": true,
         "textposition": "inside",
         "texttemplate": "%{y:.2f}%",
         "type": "bar",
         "x": [
          "S&P 500",
          "STOXX 50",
          "MSCI Pacific ex Japan",
          "MSCI Switzerland 20/35",
          "MSCI World",
          "MSCI Emerging Markets"
         ],
         "xaxis": "x",
         "y": [
          11.7,
          11.2,
          7.82,
          34.2,
          11.93,
          3.47
         ],
         "yaxis": "y"
        },
        {
         "alignmentgroup": "True",
         "hovertemplate": "variable=Consumer Discretionary<br>index=%{x}<br>value=%{y}<extra></extra>",
         "legendgroup": "Consumer Discretionary",
         "marker": {
          "color": "#ab63fa",
          "pattern": {
           "shape": ""
          }
         },
         "name": "Consumer Discretionary",
         "offsetgroup": "Consumer Discretionary",
         "orientation": "v",
         "showlegend": true,
         "textposition": "inside",
         "texttemplate": "%{y:.2f}%",
         "type": "bar",
         "x": [
          "S&P 500",
          "STOXX 50",
          "MSCI Pacific ex Japan",
          "MSCI Switzerland 20/35",
          "MSCI World",
          "MSCI Emerging Markets"
         ],
         "xaxis": "x",
         "y": [
          10,
          19.3,
          5.46,
          6,
          10.12,
          12.26
         ],
         "yaxis": "y"
        },
        {
         "alignmentgroup": "True",
         "hovertemplate": "variable=Communication Services<br>index=%{x}<br>value=%{y}<extra></extra>",
         "legendgroup": "Communication Services",
         "marker": {
          "color": "#FFA15A",
          "pattern": {
           "shape": ""
          }
         },
         "name": "Communication Services",
         "offsetgroup": "Communication Services",
         "orientation": "v",
         "showlegend": true,
         "textposition": "inside",
         "texttemplate": "%{y:.2f}%",
         "type": "bar",
         "x": [
          "S&P 500",
          "STOXX 50",
          "MSCI Pacific ex Japan",
          "MSCI Switzerland 20/35",
          "MSCI World",
          "MSCI Emerging Markets"
         ],
         "xaxis": "x",
         "y": [
          9.3,
          0,
          4.55,
          0.9,
          7.43,
          8.81
         ],
         "yaxis": "y"
        },
        {
         "alignmentgroup": "True",
         "hovertemplate": "variable=Industrials<br>index=%{x}<br>value=%{y}<extra></extra>",
         "legendgroup": "Industrials",
         "marker": {
          "color": "#19d3f3",
          "pattern": {
           "shape": ""
          }
         },
         "name": "Industrials",
         "offsetgroup": "Industrials",
         "orientation": "v",
         "showlegend": true,
         "textposition": "inside",
         "texttemplate": "%{y:.2f}%",
         "type": "bar",
         "x": [
          "S&P 500",
          "STOXX 50",
          "MSCI Pacific ex Japan",
          "MSCI Switzerland 20/35",
          "MSCI World",
          "MSCI Emerging Markets"
         ],
         "xaxis": "x",
         "y": [
          8.1,
          19.6,
          7.98,
          10.8,
          11,
          6.95
         ],
         "yaxis": "y"
        },
        {
         "alignmentgroup": "True",
         "hovertemplate": "variable=Consumer staples<br>index=%{x}<br>value=%{y}<extra></extra>",
         "legendgroup": "Consumer staples",
         "marker": {
          "color": "#FF6692",
          "pattern": {
           "shape": ""
          }
         },
         "name": "Consumer staples",
         "offsetgroup": "Consumer staples",
         "orientation": "v",
         "showlegend": true,
         "textposition": "inside",
         "texttemplate": "%{y:.2f}%",
         "type": "bar",
         "x": [
          "S&P 500",
          "STOXX 50",
          "MSCI Pacific ex Japan",
          "MSCI Switzerland 20/35",
          "MSCI World",
          "MSCI Emerging Markets"
         ],
         "xaxis": "x",
         "y": [
          5.8,
          8.9,
          3.57,
          18.9,
          6.36,
          5.3
         ],
         "yaxis": "y"
        },
        {
         "alignmentgroup": "True",
         "hovertemplate": "variable=Energy<br>index=%{x}<br>value=%{y}<extra></extra>",
         "legendgroup": "Energy",
         "marker": {
          "color": "#B6E880",
          "pattern": {
           "shape": ""
          }
         },
         "name": "Energy",
         "offsetgroup": "Energy",
         "orientation": "v",
         "showlegend": true,
         "textposition": "inside",
         "texttemplate": "%{y:.2f}%",
         "type": "bar",
         "x": [
          "S&P 500",
          "STOXX 50",
          "MSCI Pacific ex Japan",
          "MSCI Switzerland 20/35",
          "MSCI World",
          "MSCI Emerging Markets"
         ],
         "xaxis": "x",
         "y": [
          3.6,
          6.6,
          3.09,
          0,
          4.26,
          5.14
         ],
         "yaxis": "y"
        },
        {
         "alignmentgroup": "True",
         "hovertemplate": "variable=Utilities<br>index=%{x}<br>value=%{y}<extra></extra>",
         "legendgroup": "Utilities",
         "marker": {
          "color": "#FF97FF",
          "pattern": {
           "shape": ""
          }
         },
         "name": "Utilities",
         "offsetgroup": "Utilities",
         "orientation": "v",
         "showlegend": true,
         "textposition": "inside",
         "texttemplate": "%{y:.2f}%",
         "type": "bar",
         "x": [
          "S&P 500",
          "STOXX 50",
          "MSCI Pacific ex Japan",
          "MSCI Switzerland 20/35",
          "MSCI World",
          "MSCI Emerging Markets"
         ],
         "xaxis": "x",
         "y": [
          2.3,
          3.9,
          3.6,
          0.2,
          2.55,
          3.07
         ],
         "yaxis": "y"
        },
        {
         "alignmentgroup": "True",
         "hovertemplate": "variable=Real Estate<br>index=%{x}<br>value=%{y}<extra></extra>",
         "legendgroup": "Real Estate",
         "marker": {
          "color": "#FECB52",
          "pattern": {
           "shape": ""
          }
         },
         "name": "Real Estate",
         "offsetgroup": "Real Estate",
         "orientation": "v",
         "showlegend": true,
         "textposition": "inside",
         "texttemplate": "%{y:.2f}%",
         "type": "bar",
         "x": [
          "S&P 500",
          "STOXX 50",
          "MSCI Pacific ex Japan",
          "MSCI Switzerland 20/35",
          "MSCI World",
          "MSCI Emerging Markets"
         ],
         "xaxis": "x",
         "y": [
          2.2,
          0,
          8.54,
          0.5,
          2.21,
          1.47
         ],
         "yaxis": "y"
        },
        {
         "alignmentgroup": "True",
         "hovertemplate": "variable=Materials<br>index=%{x}<br>value=%{y}<extra></extra>",
         "legendgroup": "Materials",
         "marker": {
          "color": "#636efa",
          "pattern": {
           "shape": ""
          }
         },
         "name": "Materials",
         "offsetgroup": "Materials",
         "orientation": "v",
         "showlegend": true,
         "textposition": "inside",
         "texttemplate": "%{y:.2f}%",
         "type": "bar",
         "x": [
          "S&P 500",
          "STOXX 50",
          "MSCI Pacific ex Japan",
          "MSCI Switzerland 20/35",
          "MSCI World",
          "MSCI Emerging Markets"
         ],
         "xaxis": "x",
         "y": [
          2.2,
          3,
          13.6,
          9.3,
          3.72,
          6.9
         ],
         "yaxis": "y"
        }
       ],
       "layout": {
        "barmode": "stack",
        "height": 600,
        "legend": {
         "title": {
          "text": "variable"
         },
         "tracegroupgap": 0
        },
        "margin": {
         "t": 60
        },
        "template": {
         "data": {
          "bar": [
           {
            "error_x": {
             "color": "#f2f5fa"
            },
            "error_y": {
             "color": "#f2f5fa"
            },
            "marker": {
             "line": {
              "color": "rgb(17,17,17)",
              "width": 0.5
             },
             "pattern": {
              "fillmode": "overlay",
              "size": 10,
              "solidity": 0.2
             }
            },
            "type": "bar"
           }
          ],
          "barpolar": [
           {
            "marker": {
             "line": {
              "color": "rgb(17,17,17)",
              "width": 0.5
             },
             "pattern": {
              "fillmode": "overlay",
              "size": 10,
              "solidity": 0.2
             }
            },
            "type": "barpolar"
           }
          ],
          "carpet": [
           {
            "aaxis": {
             "endlinecolor": "#A2B1C6",
             "gridcolor": "#506784",
             "linecolor": "#506784",
             "minorgridcolor": "#506784",
             "startlinecolor": "#A2B1C6"
            },
            "baxis": {
             "endlinecolor": "#A2B1C6",
             "gridcolor": "#506784",
             "linecolor": "#506784",
             "minorgridcolor": "#506784",
             "startlinecolor": "#A2B1C6"
            },
            "type": "carpet"
           }
          ],
          "choropleth": [
           {
            "colorbar": {
             "outlinewidth": 0,
             "ticks": ""
            },
            "type": "choropleth"
           }
          ],
          "contour": [
           {
            "colorbar": {
             "outlinewidth": 0,
             "ticks": ""
            },
            "colorscale": [
             [
              0,
              "#0d0887"
             ],
             [
              0.1111111111111111,
              "#46039f"
             ],
             [
              0.2222222222222222,
              "#7201a8"
             ],
             [
              0.3333333333333333,
              "#9c179e"
             ],
             [
              0.4444444444444444,
              "#bd3786"
             ],
             [
              0.5555555555555556,
              "#d8576b"
             ],
             [
              0.6666666666666666,
              "#ed7953"
             ],
             [
              0.7777777777777778,
              "#fb9f3a"
             ],
             [
              0.8888888888888888,
              "#fdca26"
             ],
             [
              1,
              "#f0f921"
             ]
            ],
            "type": "contour"
           }
          ],
          "contourcarpet": [
           {
            "colorbar": {
             "outlinewidth": 0,
             "ticks": ""
            },
            "type": "contourcarpet"
           }
          ],
          "heatmap": [
           {
            "colorbar": {
             "outlinewidth": 0,
             "ticks": ""
            },
            "colorscale": [
             [
              0,
              "#0d0887"
             ],
             [
              0.1111111111111111,
              "#46039f"
             ],
             [
              0.2222222222222222,
              "#7201a8"
             ],
             [
              0.3333333333333333,
              "#9c179e"
             ],
             [
              0.4444444444444444,
              "#bd3786"
             ],
             [
              0.5555555555555556,
              "#d8576b"
             ],
             [
              0.6666666666666666,
              "#ed7953"
             ],
             [
              0.7777777777777778,
              "#fb9f3a"
             ],
             [
              0.8888888888888888,
              "#fdca26"
             ],
             [
              1,
              "#f0f921"
             ]
            ],
            "type": "heatmap"
           }
          ],
          "heatmapgl": [
           {
            "colorbar": {
             "outlinewidth": 0,
             "ticks": ""
            },
            "colorscale": [
             [
              0,
              "#0d0887"
             ],
             [
              0.1111111111111111,
              "#46039f"
             ],
             [
              0.2222222222222222,
              "#7201a8"
             ],
             [
              0.3333333333333333,
              "#9c179e"
             ],
             [
              0.4444444444444444,
              "#bd3786"
             ],
             [
              0.5555555555555556,
              "#d8576b"
             ],
             [
              0.6666666666666666,
              "#ed7953"
             ],
             [
              0.7777777777777778,
              "#fb9f3a"
             ],
             [
              0.8888888888888888,
              "#fdca26"
             ],
             [
              1,
              "#f0f921"
             ]
            ],
            "type": "heatmapgl"
           }
          ],
          "histogram": [
           {
            "marker": {
             "pattern": {
              "fillmode": "overlay",
              "size": 10,
              "solidity": 0.2
             }
            },
            "type": "histogram"
           }
          ],
          "histogram2d": [
           {
            "colorbar": {
             "outlinewidth": 0,
             "ticks": ""
            },
            "colorscale": [
             [
              0,
              "#0d0887"
             ],
             [
              0.1111111111111111,
              "#46039f"
             ],
             [
              0.2222222222222222,
              "#7201a8"
             ],
             [
              0.3333333333333333,
              "#9c179e"
             ],
             [
              0.4444444444444444,
              "#bd3786"
             ],
             [
              0.5555555555555556,
              "#d8576b"
             ],
             [
              0.6666666666666666,
              "#ed7953"
             ],
             [
              0.7777777777777778,
              "#fb9f3a"
             ],
             [
              0.8888888888888888,
              "#fdca26"
             ],
             [
              1,
              "#f0f921"
             ]
            ],
            "type": "histogram2d"
           }
          ],
          "histogram2dcontour": [
           {
            "colorbar": {
             "outlinewidth": 0,
             "ticks": ""
            },
            "colorscale": [
             [
              0,
              "#0d0887"
             ],
             [
              0.1111111111111111,
              "#46039f"
             ],
             [
              0.2222222222222222,
              "#7201a8"
             ],
             [
              0.3333333333333333,
              "#9c179e"
             ],
             [
              0.4444444444444444,
              "#bd3786"
             ],
             [
              0.5555555555555556,
              "#d8576b"
             ],
             [
              0.6666666666666666,
              "#ed7953"
             ],
             [
              0.7777777777777778,
              "#fb9f3a"
             ],
             [
              0.8888888888888888,
              "#fdca26"
             ],
             [
              1,
              "#f0f921"
             ]
            ],
            "type": "histogram2dcontour"
           }
          ],
          "mesh3d": [
           {
            "colorbar": {
             "outlinewidth": 0,
             "ticks": ""
            },
            "type": "mesh3d"
           }
          ],
          "parcoords": [
           {
            "line": {
             "colorbar": {
              "outlinewidth": 0,
              "ticks": ""
             }
            },
            "type": "parcoords"
           }
          ],
          "pie": [
           {
            "automargin": true,
            "type": "pie"
           }
          ],
          "scatter": [
           {
            "marker": {
             "line": {
              "color": "#283442"
             }
            },
            "type": "scatter"
           }
          ],
          "scatter3d": [
           {
            "line": {
             "colorbar": {
              "outlinewidth": 0,
              "ticks": ""
             }
            },
            "marker": {
             "colorbar": {
              "outlinewidth": 0,
              "ticks": ""
             }
            },
            "type": "scatter3d"
           }
          ],
          "scattercarpet": [
           {
            "marker": {
             "colorbar": {
              "outlinewidth": 0,
              "ticks": ""
             }
            },
            "type": "scattercarpet"
           }
          ],
          "scattergeo": [
           {
            "marker": {
             "colorbar": {
              "outlinewidth": 0,
              "ticks": ""
             }
            },
            "type": "scattergeo"
           }
          ],
          "scattergl": [
           {
            "marker": {
             "line": {
              "color": "#283442"
             }
            },
            "type": "scattergl"
           }
          ],
          "scattermapbox": [
           {
            "marker": {
             "colorbar": {
              "outlinewidth": 0,
              "ticks": ""
             }
            },
            "type": "scattermapbox"
           }
          ],
          "scatterpolar": [
           {
            "marker": {
             "colorbar": {
              "outlinewidth": 0,
              "ticks": ""
             }
            },
            "type": "scatterpolar"
           }
          ],
          "scatterpolargl": [
           {
            "marker": {
             "colorbar": {
              "outlinewidth": 0,
              "ticks": ""
             }
            },
            "type": "scatterpolargl"
           }
          ],
          "scatterternary": [
           {
            "marker": {
             "colorbar": {
              "outlinewidth": 0,
              "ticks": ""
             }
            },
            "type": "scatterternary"
           }
          ],
          "surface": [
           {
            "colorbar": {
             "outlinewidth": 0,
             "ticks": ""
            },
            "colorscale": [
             [
              0,
              "#0d0887"
             ],
             [
              0.1111111111111111,
              "#46039f"
             ],
             [
              0.2222222222222222,
              "#7201a8"
             ],
             [
              0.3333333333333333,
              "#9c179e"
             ],
             [
              0.4444444444444444,
              "#bd3786"
             ],
             [
              0.5555555555555556,
              "#d8576b"
             ],
             [
              0.6666666666666666,
              "#ed7953"
             ],
             [
              0.7777777777777778,
              "#fb9f3a"
             ],
             [
              0.8888888888888888,
              "#fdca26"
             ],
             [
              1,
              "#f0f921"
             ]
            ],
            "type": "surface"
           }
          ],
          "table": [
           {
            "cells": {
             "fill": {
              "color": "#506784"
             },
             "line": {
              "color": "rgb(17,17,17)"
             }
            },
            "header": {
             "fill": {
              "color": "#2a3f5f"
             },
             "line": {
              "color": "rgb(17,17,17)"
             }
            },
            "type": "table"
           }
          ]
         },
         "layout": {
          "annotationdefaults": {
           "arrowcolor": "#f2f5fa",
           "arrowhead": 0,
           "arrowwidth": 1
          },
          "autotypenumbers": "strict",
          "coloraxis": {
           "colorbar": {
            "outlinewidth": 0,
            "ticks": ""
           }
          },
          "colorscale": {
           "diverging": [
            [
             0,
             "#8e0152"
            ],
            [
             0.1,
             "#c51b7d"
            ],
            [
             0.2,
             "#de77ae"
            ],
            [
             0.3,
             "#f1b6da"
            ],
            [
             0.4,
             "#fde0ef"
            ],
            [
             0.5,
             "#f7f7f7"
            ],
            [
             0.6,
             "#e6f5d0"
            ],
            [
             0.7,
             "#b8e186"
            ],
            [
             0.8,
             "#7fbc41"
            ],
            [
             0.9,
             "#4d9221"
            ],
            [
             1,
             "#276419"
            ]
           ],
           "sequential": [
            [
             0,
             "#0d0887"
            ],
            [
             0.1111111111111111,
             "#46039f"
            ],
            [
             0.2222222222222222,
             "#7201a8"
            ],
            [
             0.3333333333333333,
             "#9c179e"
            ],
            [
             0.4444444444444444,
             "#bd3786"
            ],
            [
             0.5555555555555556,
             "#d8576b"
            ],
            [
             0.6666666666666666,
             "#ed7953"
            ],
            [
             0.7777777777777778,
             "#fb9f3a"
            ],
            [
             0.8888888888888888,
             "#fdca26"
            ],
            [
             1,
             "#f0f921"
            ]
           ],
           "sequentialminus": [
            [
             0,
             "#0d0887"
            ],
            [
             0.1111111111111111,
             "#46039f"
            ],
            [
             0.2222222222222222,
             "#7201a8"
            ],
            [
             0.3333333333333333,
             "#9c179e"
            ],
            [
             0.4444444444444444,
             "#bd3786"
            ],
            [
             0.5555555555555556,
             "#d8576b"
            ],
            [
             0.6666666666666666,
             "#ed7953"
            ],
            [
             0.7777777777777778,
             "#fb9f3a"
            ],
            [
             0.8888888888888888,
             "#fdca26"
            ],
            [
             1,
             "#f0f921"
            ]
           ]
          },
          "colorway": [
           "#636efa",
           "#EF553B",
           "#00cc96",
           "#ab63fa",
           "#FFA15A",
           "#19d3f3",
           "#FF6692",
           "#B6E880",
           "#FF97FF",
           "#FECB52"
          ],
          "font": {
           "color": "#f2f5fa"
          },
          "geo": {
           "bgcolor": "rgb(17,17,17)",
           "lakecolor": "rgb(17,17,17)",
           "landcolor": "rgb(17,17,17)",
           "showlakes": true,
           "showland": true,
           "subunitcolor": "#506784"
          },
          "hoverlabel": {
           "align": "left"
          },
          "hovermode": "closest",
          "mapbox": {
           "style": "dark"
          },
          "paper_bgcolor": "rgb(17,17,17)",
          "plot_bgcolor": "rgb(17,17,17)",
          "polar": {
           "angularaxis": {
            "gridcolor": "#506784",
            "linecolor": "#506784",
            "ticks": ""
           },
           "bgcolor": "rgb(17,17,17)",
           "radialaxis": {
            "gridcolor": "#506784",
            "linecolor": "#506784",
            "ticks": ""
           }
          },
          "scene": {
           "xaxis": {
            "backgroundcolor": "rgb(17,17,17)",
            "gridcolor": "#506784",
            "gridwidth": 2,
            "linecolor": "#506784",
            "showbackground": true,
            "ticks": "",
            "zerolinecolor": "#C8D4E3"
           },
           "yaxis": {
            "backgroundcolor": "rgb(17,17,17)",
            "gridcolor": "#506784",
            "gridwidth": 2,
            "linecolor": "#506784",
            "showbackground": true,
            "ticks": "",
            "zerolinecolor": "#C8D4E3"
           },
           "zaxis": {
            "backgroundcolor": "rgb(17,17,17)",
            "gridcolor": "#506784",
            "gridwidth": 2,
            "linecolor": "#506784",
            "showbackground": true,
            "ticks": "",
            "zerolinecolor": "#C8D4E3"
           }
          },
          "shapedefaults": {
           "line": {
            "color": "#f2f5fa"
           }
          },
          "sliderdefaults": {
           "bgcolor": "#C8D4E3",
           "bordercolor": "rgb(17,17,17)",
           "borderwidth": 1,
           "tickwidth": 0
          },
          "ternary": {
           "aaxis": {
            "gridcolor": "#506784",
            "linecolor": "#506784",
            "ticks": ""
           },
           "baxis": {
            "gridcolor": "#506784",
            "linecolor": "#506784",
            "ticks": ""
           },
           "bgcolor": "rgb(17,17,17)",
           "caxis": {
            "gridcolor": "#506784",
            "linecolor": "#506784",
            "ticks": ""
           }
          },
          "title": {
           "x": 0.05
          },
          "updatemenudefaults": {
           "bgcolor": "#506784",
           "borderwidth": 0
          },
          "xaxis": {
           "automargin": true,
           "gridcolor": "#283442",
           "linecolor": "#506784",
           "ticks": "",
           "title": {
            "standoff": 15
           },
           "zerolinecolor": "#283442",
           "zerolinewidth": 2
          },
          "yaxis": {
           "automargin": true,
           "gridcolor": "#283442",
           "linecolor": "#506784",
           "ticks": "",
           "title": {
            "standoff": 15
           },
           "zerolinecolor": "#283442",
           "zerolinewidth": 2
          }
         }
        },
        "title": {
         "text": "Sector exposure of ETFs",
         "x": 0.5
        },
        "xaxis": {
         "anchor": "y",
         "domain": [
          0,
          1
         ],
         "title": {
          "text": "ETFs"
         }
        },
        "yaxis": {
         "anchor": "x",
         "domain": [
          0,
          1
         ],
         "title": {
          "text": "Percentage of total exposure"
         }
        }
       }
      }
     },
     "metadata": {},
     "output_type": "display_data"
    }
   ],
   "source": [
    "# Plot the sector exposure of the ETFs\n",
    "fig = px.bar(sector_exposure, barmode='stack')\n",
    "fig.update_layout(\n",
    "    title='Sector exposure of ETFs',\n",
    "    xaxis_title='ETFs',\n",
    "    yaxis_title='Percentage of total exposure',\n",
    ")\n",
    "fig.update_layout(title_x=0.5,height=600, template='plotly_dark')\n",
    "fig.update_traces(texttemplate='%{y:.2f}%', textposition='inside')\n",
    "pio.write_image(fig, 'output/sector_distribution.svg')\n",
    "fig.show()"
   ]
  },
  {
   "cell_type": "markdown",
   "metadata": {},
   "source": [
    "### Country exposure"
   ]
  },
  {
   "cell_type": "code",
   "execution_count": 29,
   "metadata": {},
   "outputs": [
    {
     "data": {
      "text/html": [
       "<div>\n",
       "<style scoped>\n",
       "    .dataframe tbody tr th:only-of-type {\n",
       "        vertical-align: middle;\n",
       "    }\n",
       "\n",
       "    .dataframe tbody tr th {\n",
       "        vertical-align: top;\n",
       "    }\n",
       "\n",
       "    .dataframe thead th {\n",
       "        text-align: right;\n",
       "    }\n",
       "</style>\n",
       "<table border=\"1\" class=\"dataframe\">\n",
       "  <thead>\n",
       "    <tr style=\"text-align: right;\">\n",
       "      <th></th>\n",
       "      <th>USA</th>\n",
       "      <th>Europe</th>\n",
       "      <th>China</th>\n",
       "      <th>Australia</th>\n",
       "      <th>Singapore</th>\n",
       "      <th>Japan</th>\n",
       "      <th>India</th>\n",
       "      <th>Taiwan</th>\n",
       "      <th>South Korea</th>\n",
       "      <th>Brazil</th>\n",
       "      <th>Hong Kong</th>\n",
       "      <th>New Zeland</th>\n",
       "      <th>Other</th>\n",
       "    </tr>\n",
       "  </thead>\n",
       "  <tbody>\n",
       "    <tr>\n",
       "      <th>S&amp;P 500</th>\n",
       "      <td>100.00</td>\n",
       "      <td>0.00</td>\n",
       "      <td>0.00</td>\n",
       "      <td>0.00</td>\n",
       "      <td>0.00</td>\n",
       "      <td>0.00</td>\n",
       "      <td>0.00</td>\n",
       "      <td>0.00</td>\n",
       "      <td>0.00</td>\n",
       "      <td>0.00</td>\n",
       "      <td>0.00</td>\n",
       "      <td>0.00</td>\n",
       "      <td>0.00</td>\n",
       "    </tr>\n",
       "    <tr>\n",
       "      <th>STOXX 50</th>\n",
       "      <td>0.00</td>\n",
       "      <td>100.00</td>\n",
       "      <td>0.00</td>\n",
       "      <td>0.00</td>\n",
       "      <td>0.00</td>\n",
       "      <td>0.00</td>\n",
       "      <td>0.00</td>\n",
       "      <td>0.00</td>\n",
       "      <td>0.00</td>\n",
       "      <td>0.00</td>\n",
       "      <td>0.00</td>\n",
       "      <td>0.00</td>\n",
       "      <td>0.00</td>\n",
       "    </tr>\n",
       "    <tr>\n",
       "      <th>MSCI Pacific ex Japan</th>\n",
       "      <td>0.00</td>\n",
       "      <td>0.00</td>\n",
       "      <td>0.00</td>\n",
       "      <td>69.04</td>\n",
       "      <td>12.69</td>\n",
       "      <td>0.00</td>\n",
       "      <td>0.00</td>\n",
       "      <td>0.00</td>\n",
       "      <td>0.00</td>\n",
       "      <td>0.00</td>\n",
       "      <td>16.21</td>\n",
       "      <td>1.62</td>\n",
       "      <td>0.00</td>\n",
       "    </tr>\n",
       "    <tr>\n",
       "      <th>MSCI Switzerland 20/35</th>\n",
       "      <td>0.00</td>\n",
       "      <td>100.00</td>\n",
       "      <td>0.00</td>\n",
       "      <td>0.00</td>\n",
       "      <td>0.00</td>\n",
       "      <td>0.00</td>\n",
       "      <td>0.00</td>\n",
       "      <td>0.00</td>\n",
       "      <td>0.00</td>\n",
       "      <td>0.00</td>\n",
       "      <td>0.00</td>\n",
       "      <td>0.00</td>\n",
       "      <td>0.00</td>\n",
       "    </tr>\n",
       "    <tr>\n",
       "      <th>MSCI World</th>\n",
       "      <td>74.72</td>\n",
       "      <td>16.45</td>\n",
       "      <td>0.00</td>\n",
       "      <td>1.88</td>\n",
       "      <td>0.34</td>\n",
       "      <td>5.92</td>\n",
       "      <td>0.00</td>\n",
       "      <td>0.00</td>\n",
       "      <td>0.00</td>\n",
       "      <td>0.00</td>\n",
       "      <td>0.45</td>\n",
       "      <td>0.04</td>\n",
       "      <td>0.20</td>\n",
       "    </tr>\n",
       "    <tr>\n",
       "      <th>MSCI Emerging Markets</th>\n",
       "      <td>0.00</td>\n",
       "      <td>0.00</td>\n",
       "      <td>24.54</td>\n",
       "      <td>0.00</td>\n",
       "      <td>0.00</td>\n",
       "      <td>0.00</td>\n",
       "      <td>20.01</td>\n",
       "      <td>18.45</td>\n",
       "      <td>12.11</td>\n",
       "      <td>4.32</td>\n",
       "      <td>0.00</td>\n",
       "      <td>0.00</td>\n",
       "      <td>20.58</td>\n",
       "    </tr>\n",
       "  </tbody>\n",
       "</table>\n",
       "</div>"
      ],
      "text/plain": [
       "                           USA  Europe  China  Australia  Singapore  Japan  \\\n",
       "S&P 500                 100.00    0.00   0.00       0.00       0.00   0.00   \n",
       "STOXX 50                  0.00  100.00   0.00       0.00       0.00   0.00   \n",
       "MSCI Pacific ex Japan     0.00    0.00   0.00      69.04      12.69   0.00   \n",
       "MSCI Switzerland 20/35    0.00  100.00   0.00       0.00       0.00   0.00   \n",
       "MSCI World               74.72   16.45   0.00       1.88       0.34   5.92   \n",
       "MSCI Emerging Markets     0.00    0.00  24.54       0.00       0.00   0.00   \n",
       "\n",
       "                        India  Taiwan  South Korea  Brazil  Hong Kong  \\\n",
       "S&P 500                  0.00    0.00         0.00    0.00       0.00   \n",
       "STOXX 50                 0.00    0.00         0.00    0.00       0.00   \n",
       "MSCI Pacific ex Japan    0.00    0.00         0.00    0.00      16.21   \n",
       "MSCI Switzerland 20/35   0.00    0.00         0.00    0.00       0.00   \n",
       "MSCI World               0.00    0.00         0.00    0.00       0.45   \n",
       "MSCI Emerging Markets   20.01   18.45        12.11    4.32       0.00   \n",
       "\n",
       "                        New Zeland  Other  \n",
       "S&P 500                       0.00   0.00  \n",
       "STOXX 50                      0.00   0.00  \n",
       "MSCI Pacific ex Japan         1.62   0.00  \n",
       "MSCI Switzerland 20/35        0.00   0.00  \n",
       "MSCI World                    0.04   0.20  \n",
       "MSCI Emerging Markets         0.00  20.58  "
      ]
     },
     "execution_count": 29,
     "metadata": {},
     "output_type": "execute_result"
    }
   ],
   "source": [
    "country_exposure = pd.DataFrame({\n",
    "    'USA': [100.00, 0.00, 0.00, 0.00, 74.72, 0.00],\n",
    "    'Europe': [0.00, 100.00, 0.00, 100.00, 16.45, 0.00],\n",
    "    'China': [0.00, 0.00, 0.00, 0.00, 0.00, 24.54],\n",
    "    'Australia': [0.00, 0.00, 69.04, 0.00, 1.88, 0.00],\n",
    "    'Singapore': [0.00, 0.00, 12.69, 0.00, 0.34, 0.00],\n",
    "    'Japan': [0.00, 0.00, 0.00, 0.00, 5.92, 0.00],\n",
    "    'India': [0.00, 0.00, 0.00, 0.00, 0.00, 20.01],\n",
    "    'Taiwan': [0.00, 0.00, 0.00, 0.00, 0.00, 18.45],\n",
    "    'South Korea': [0.00, 0.00, 0.00, 0.00, 0.00, 12.11],\n",
    "    'Brazil': [0.00, 0.00, 0.00, 0.00, 0.00, 4.32],\n",
    "    'Hong Kong': [0.00, 0.00, 16.21, 0.00, 0.45, 0.00],\n",
    "    'New Zeland': [0.00, 0.00, 1.62, 0.00, 0.04, 0.00],\n",
    "    'Other': [0.00, 0.00, 0.00, 0.00, 0.20, 20.58]\n",
    "}, index=[\n",
    "    'S&P 500',\n",
    "    'STOXX 50',\n",
    "    'MSCI Pacific ex Japan',\n",
    "    'MSCI Switzerland 20/35',\n",
    "    'MSCI World',\n",
    "    'MSCI Emerging Markets'\n",
    "])\n",
    "\n",
    "country_exposure"
   ]
  },
  {
   "cell_type": "markdown",
   "metadata": {},
   "source": [
    "### Fees"
   ]
  },
  {
   "cell_type": "code",
   "execution_count": 30,
   "metadata": {},
   "outputs": [
    {
     "data": {
      "text/html": [
       "<div>\n",
       "<style scoped>\n",
       "    .dataframe tbody tr th:only-of-type {\n",
       "        vertical-align: middle;\n",
       "    }\n",
       "\n",
       "    .dataframe tbody tr th {\n",
       "        vertical-align: top;\n",
       "    }\n",
       "\n",
       "    .dataframe thead th {\n",
       "        text-align: right;\n",
       "    }\n",
       "</style>\n",
       "<table border=\"1\" class=\"dataframe\">\n",
       "  <thead>\n",
       "    <tr style=\"text-align: right;\">\n",
       "      <th></th>\n",
       "      <th>Management</th>\n",
       "      <th>Transaction</th>\n",
       "      <th>Total</th>\n",
       "    </tr>\n",
       "  </thead>\n",
       "  <tbody>\n",
       "    <tr>\n",
       "      <th>S&amp;P 500</th>\n",
       "      <td>0.07</td>\n",
       "      <td>0.02</td>\n",
       "      <td>0.09</td>\n",
       "    </tr>\n",
       "    <tr>\n",
       "      <th>STOXX 50</th>\n",
       "      <td>0.09</td>\n",
       "      <td>0.01</td>\n",
       "      <td>0.10</td>\n",
       "    </tr>\n",
       "    <tr>\n",
       "      <th>MSCI Pacific ex Japan</th>\n",
       "      <td>0.20</td>\n",
       "      <td>0.02</td>\n",
       "      <td>0.22</td>\n",
       "    </tr>\n",
       "    <tr>\n",
       "      <th>MSCI Switzerland 20/35</th>\n",
       "      <td>0.20</td>\n",
       "      <td>0.00</td>\n",
       "      <td>0.20</td>\n",
       "    </tr>\n",
       "    <tr>\n",
       "      <th>MSCI World</th>\n",
       "      <td>0.12</td>\n",
       "      <td>0.00</td>\n",
       "      <td>0.12</td>\n",
       "    </tr>\n",
       "    <tr>\n",
       "      <th>MSCI Emerging Markets</th>\n",
       "      <td>0.18</td>\n",
       "      <td>0.03</td>\n",
       "      <td>0.21</td>\n",
       "    </tr>\n",
       "    <tr>\n",
       "      <th>Gold</th>\n",
       "      <td>0.12</td>\n",
       "      <td>0.00</td>\n",
       "      <td>0.12</td>\n",
       "    </tr>\n",
       "    <tr>\n",
       "      <th>Commodity</th>\n",
       "      <td>0.19</td>\n",
       "      <td>0.00</td>\n",
       "      <td>0.19</td>\n",
       "    </tr>\n",
       "  </tbody>\n",
       "</table>\n",
       "</div>"
      ],
      "text/plain": [
       "                        Management  Transaction  Total\n",
       "S&P 500                       0.07         0.02   0.09\n",
       "STOXX 50                      0.09         0.01   0.10\n",
       "MSCI Pacific ex Japan         0.20         0.02   0.22\n",
       "MSCI Switzerland 20/35        0.20         0.00   0.20\n",
       "MSCI World                    0.12         0.00   0.12\n",
       "MSCI Emerging Markets         0.18         0.03   0.21\n",
       "Gold                          0.12         0.00   0.12\n",
       "Commodity                     0.19         0.00   0.19"
      ]
     },
     "execution_count": 30,
     "metadata": {},
     "output_type": "execute_result"
    }
   ],
   "source": [
    "fees = pd.DataFrame({\n",
    "    'Management': [0.07, 0.09, 0.20, 0.20, 0.12, 0.18, 0.12, 0.19],\n",
    "    'Transaction': [0.02, 0.01, 0.02, 0.00, 0.00, 0.03, 0.00, 0.00],\n",
    "    'Total': [0.09, 0.10, 0.22, 0.20, 0.12, 0.21, 0.12, 0.19]\n",
    "}, index=[\n",
    "    'S&P 500',\n",
    "    'STOXX 50',\n",
    "    'MSCI Pacific ex Japan',\n",
    "    'MSCI Switzerland 20/35',\n",
    "    'MSCI World',\n",
    "    'MSCI Emerging Markets',\n",
    "    'Gold',\n",
    "    'Commodity'\n",
    "])\n",
    "\n",
    "fees"
   ]
  },
  {
   "cell_type": "markdown",
   "metadata": {},
   "source": [
    "### Portfolio weights"
   ]
  },
  {
   "cell_type": "code",
   "execution_count": 31,
   "metadata": {},
   "outputs": [
    {
     "data": {
      "text/html": [
       "<div>\n",
       "<style scoped>\n",
       "    .dataframe tbody tr th:only-of-type {\n",
       "        vertical-align: middle;\n",
       "    }\n",
       "\n",
       "    .dataframe tbody tr th {\n",
       "        vertical-align: top;\n",
       "    }\n",
       "\n",
       "    .dataframe thead th {\n",
       "        text-align: right;\n",
       "    }\n",
       "</style>\n",
       "<table border=\"1\" class=\"dataframe\">\n",
       "  <thead>\n",
       "    <tr style=\"text-align: right;\">\n",
       "      <th></th>\n",
       "      <th>Market Cap</th>\n",
       "      <th>Diversified</th>\n",
       "      <th>Growth</th>\n",
       "      <th>Conservative</th>\n",
       "      <th>Stability</th>\n",
       "      <th>Aggressive</th>\n",
       "      <th>Defensive</th>\n",
       "    </tr>\n",
       "  </thead>\n",
       "  <tbody>\n",
       "    <tr>\n",
       "      <th>S&amp;P 500</th>\n",
       "      <td>53.97</td>\n",
       "      <td>25.0</td>\n",
       "      <td>25.0</td>\n",
       "      <td>20.0</td>\n",
       "      <td>25.0</td>\n",
       "      <td>25.0</td>\n",
       "      <td>15.0</td>\n",
       "    </tr>\n",
       "    <tr>\n",
       "      <th>STOXX 50</th>\n",
       "      <td>8.78</td>\n",
       "      <td>15.0</td>\n",
       "      <td>10.0</td>\n",
       "      <td>15.0</td>\n",
       "      <td>15.0</td>\n",
       "      <td>10.0</td>\n",
       "      <td>10.0</td>\n",
       "    </tr>\n",
       "    <tr>\n",
       "      <th>MSCI Pacific ex Japan</th>\n",
       "      <td>2.41</td>\n",
       "      <td>10.0</td>\n",
       "      <td>15.0</td>\n",
       "      <td>3.0</td>\n",
       "      <td>3.0</td>\n",
       "      <td>20.0</td>\n",
       "      <td>3.0</td>\n",
       "    </tr>\n",
       "    <tr>\n",
       "      <th>MSCI Switzerland 20/35</th>\n",
       "      <td>1.70</td>\n",
       "      <td>10.0</td>\n",
       "      <td>5.0</td>\n",
       "      <td>20.0</td>\n",
       "      <td>25.0</td>\n",
       "      <td>1.0</td>\n",
       "      <td>25.0</td>\n",
       "    </tr>\n",
       "    <tr>\n",
       "      <th>MSCI World</th>\n",
       "      <td>8.36</td>\n",
       "      <td>20.0</td>\n",
       "      <td>20.0</td>\n",
       "      <td>15.0</td>\n",
       "      <td>10.0</td>\n",
       "      <td>15.0</td>\n",
       "      <td>10.0</td>\n",
       "    </tr>\n",
       "    <tr>\n",
       "      <th>MSCI Emerging Markets</th>\n",
       "      <td>10.34</td>\n",
       "      <td>10.0</td>\n",
       "      <td>20.0</td>\n",
       "      <td>2.0</td>\n",
       "      <td>2.0</td>\n",
       "      <td>25.0</td>\n",
       "      <td>2.0</td>\n",
       "    </tr>\n",
       "    <tr>\n",
       "      <th>Gold</th>\n",
       "      <td>13.46</td>\n",
       "      <td>5.0</td>\n",
       "      <td>3.0</td>\n",
       "      <td>15.0</td>\n",
       "      <td>15.0</td>\n",
       "      <td>3.0</td>\n",
       "      <td>20.0</td>\n",
       "    </tr>\n",
       "    <tr>\n",
       "      <th>Commodity</th>\n",
       "      <td>0.99</td>\n",
       "      <td>5.0</td>\n",
       "      <td>2.0</td>\n",
       "      <td>10.0</td>\n",
       "      <td>5.0</td>\n",
       "      <td>1.0</td>\n",
       "      <td>15.0</td>\n",
       "    </tr>\n",
       "  </tbody>\n",
       "</table>\n",
       "</div>"
      ],
      "text/plain": [
       "                        Market Cap  Diversified  Growth  Conservative  \\\n",
       "S&P 500                      53.97         25.0    25.0          20.0   \n",
       "STOXX 50                      8.78         15.0    10.0          15.0   \n",
       "MSCI Pacific ex Japan         2.41         10.0    15.0           3.0   \n",
       "MSCI Switzerland 20/35        1.70         10.0     5.0          20.0   \n",
       "MSCI World                    8.36         20.0    20.0          15.0   \n",
       "MSCI Emerging Markets        10.34         10.0    20.0           2.0   \n",
       "Gold                         13.46          5.0     3.0          15.0   \n",
       "Commodity                     0.99          5.0     2.0          10.0   \n",
       "\n",
       "                        Stability  Aggressive  Defensive  \n",
       "S&P 500                      25.0        25.0       15.0  \n",
       "STOXX 50                     15.0        10.0       10.0  \n",
       "MSCI Pacific ex Japan         3.0        20.0        3.0  \n",
       "MSCI Switzerland 20/35       25.0         1.0       25.0  \n",
       "MSCI World                   10.0        15.0       10.0  \n",
       "MSCI Emerging Markets         2.0        25.0        2.0  \n",
       "Gold                         15.0         3.0       20.0  \n",
       "Commodity                     5.0         1.0       15.0  "
      ]
     },
     "execution_count": 31,
     "metadata": {},
     "output_type": "execute_result"
    }
   ],
   "source": [
    "weights_table = pd.DataFrame({\n",
    "    'Market Cap': [53.97, 8.78, 2.41, 1.70, 8.36, 10.34, 13.46, 0.99],\n",
    "    'Diversified': [25.00, 15.00, 10.00, 10.00, 20.00, 10.00, 5.00, 5.00],\n",
    "    'Growth': [25.00, 10.00, 15.00, 5.00, 20.00, 20.00, 3.00, 2.00],\n",
    "    'Conservative': [20.00, 15.00, 3.00, 20.00, 15.00, 2.00, 15.00, 10.00],\n",
    "    'Stability': [25.00, 15.00, 3.00, 25.00, 10.00, 2.00, 15.00, 5.00],\n",
    "    'Aggressive': [25.00, 10.00, 20.00, 1.00, 15.00, 25.00, 3.00, 1.00],\n",
    "    'Defensive': [15.00, 10.00, 3.00, 25.00, 10.00, 2.00, 20.00, 15.00]\n",
    "}, index=[\n",
    "    'S&P 500',\n",
    "    'STOXX 50',\n",
    "    'MSCI Pacific ex Japan',\n",
    "    'MSCI Switzerland 20/35',\n",
    "    'MSCI World',\n",
    "    'MSCI Emerging Markets',\n",
    "    'Gold',\n",
    "    'Commodity'\n",
    "])\n",
    "\n",
    "weights_table"
   ]
  },
  {
   "cell_type": "markdown",
   "metadata": {},
   "source": [
    "### Portfolio Analysis - Market Cap"
   ]
  },
  {
   "cell_type": "code",
   "execution_count": 36,
   "metadata": {},
   "outputs": [
    {
     "data": {
      "application/vnd.plotly.v1+json": {
       "config": {
        "plotlyServerURL": "https://plot.ly"
       },
       "data": [
        {
         "textposition": "inside",
         "texttemplate": "%{y:.2f}%",
         "type": "bar",
         "x": [
          "IT",
          "Financials",
          "Health Care",
          "Consumer Discretionary",
          "Communication Services",
          "Industrials",
          "Consumer staples",
          "Energy",
          "Utilities",
          "Real Estate",
          "Materials"
         ],
         "xaxis": "x",
         "y": [
          14.786177710319967,
          16.77946371041531,
          19.87134832065424,
          9.766517039504338,
          4.114670074413755,
          11.307999747802109,
          11.27832036205775,
          2.801088141624493,
          1.8598056538460948,
          1.4787407943925952,
          5.955868444969345
         ],
         "yaxis": "y"
        },
        {
         "textposition": "inside",
         "texttemplate": "%{y:.2f}%",
         "type": "bar",
         "x": [
          "USA",
          "Europe",
          "China",
          "Australia",
          "Singapore",
          "Japan",
          "India",
          "Taiwan",
          "South Korea",
          "Brazil",
          "Hong Kong",
          "New Zeland",
          "Other"
         ],
         "xaxis": "x2",
         "y": [
          34.5792235370151,
          56.388200717066496,
          0.7552279686706573,
          3.4763875852093507,
          0.638127625525105,
          0.9109514210534415,
          0.6158154707864651,
          0.567805868866081,
          0.37268992259990463,
          0.13294966685644824,
          0.8175481250096173,
          0.08093926477603214,
          0.664132826565313
         ],
         "yaxis": "y2"
        }
       ],
       "layout": {
        "annotations": [
         {
          "font": {
           "size": 16
          },
          "showarrow": false,
          "text": "Sector exposure",
          "x": 0.5,
          "xanchor": "center",
          "xref": "paper",
          "y": 1,
          "yanchor": "bottom",
          "yref": "paper"
         },
         {
          "font": {
           "size": 16
          },
          "showarrow": false,
          "text": "Country exposure",
          "x": 0.5,
          "xanchor": "center",
          "xref": "paper",
          "y": 0.45,
          "yanchor": "bottom",
          "yref": "paper"
         }
        ],
        "bargap": 0,
        "barmode": "stack",
        "height": 800,
        "showlegend": false,
        "template": {
         "data": {
          "bar": [
           {
            "error_x": {
             "color": "#f2f5fa"
            },
            "error_y": {
             "color": "#f2f5fa"
            },
            "marker": {
             "line": {
              "color": "rgb(17,17,17)",
              "width": 0.5
             },
             "pattern": {
              "fillmode": "overlay",
              "size": 10,
              "solidity": 0.2
             }
            },
            "type": "bar"
           }
          ],
          "barpolar": [
           {
            "marker": {
             "line": {
              "color": "rgb(17,17,17)",
              "width": 0.5
             },
             "pattern": {
              "fillmode": "overlay",
              "size": 10,
              "solidity": 0.2
             }
            },
            "type": "barpolar"
           }
          ],
          "carpet": [
           {
            "aaxis": {
             "endlinecolor": "#A2B1C6",
             "gridcolor": "#506784",
             "linecolor": "#506784",
             "minorgridcolor": "#506784",
             "startlinecolor": "#A2B1C6"
            },
            "baxis": {
             "endlinecolor": "#A2B1C6",
             "gridcolor": "#506784",
             "linecolor": "#506784",
             "minorgridcolor": "#506784",
             "startlinecolor": "#A2B1C6"
            },
            "type": "carpet"
           }
          ],
          "choropleth": [
           {
            "colorbar": {
             "outlinewidth": 0,
             "ticks": ""
            },
            "type": "choropleth"
           }
          ],
          "contour": [
           {
            "colorbar": {
             "outlinewidth": 0,
             "ticks": ""
            },
            "colorscale": [
             [
              0,
              "#0d0887"
             ],
             [
              0.1111111111111111,
              "#46039f"
             ],
             [
              0.2222222222222222,
              "#7201a8"
             ],
             [
              0.3333333333333333,
              "#9c179e"
             ],
             [
              0.4444444444444444,
              "#bd3786"
             ],
             [
              0.5555555555555556,
              "#d8576b"
             ],
             [
              0.6666666666666666,
              "#ed7953"
             ],
             [
              0.7777777777777778,
              "#fb9f3a"
             ],
             [
              0.8888888888888888,
              "#fdca26"
             ],
             [
              1,
              "#f0f921"
             ]
            ],
            "type": "contour"
           }
          ],
          "contourcarpet": [
           {
            "colorbar": {
             "outlinewidth": 0,
             "ticks": ""
            },
            "type": "contourcarpet"
           }
          ],
          "heatmap": [
           {
            "colorbar": {
             "outlinewidth": 0,
             "ticks": ""
            },
            "colorscale": [
             [
              0,
              "#0d0887"
             ],
             [
              0.1111111111111111,
              "#46039f"
             ],
             [
              0.2222222222222222,
              "#7201a8"
             ],
             [
              0.3333333333333333,
              "#9c179e"
             ],
             [
              0.4444444444444444,
              "#bd3786"
             ],
             [
              0.5555555555555556,
              "#d8576b"
             ],
             [
              0.6666666666666666,
              "#ed7953"
             ],
             [
              0.7777777777777778,
              "#fb9f3a"
             ],
             [
              0.8888888888888888,
              "#fdca26"
             ],
             [
              1,
              "#f0f921"
             ]
            ],
            "type": "heatmap"
           }
          ],
          "heatmapgl": [
           {
            "colorbar": {
             "outlinewidth": 0,
             "ticks": ""
            },
            "colorscale": [
             [
              0,
              "#0d0887"
             ],
             [
              0.1111111111111111,
              "#46039f"
             ],
             [
              0.2222222222222222,
              "#7201a8"
             ],
             [
              0.3333333333333333,
              "#9c179e"
             ],
             [
              0.4444444444444444,
              "#bd3786"
             ],
             [
              0.5555555555555556,
              "#d8576b"
             ],
             [
              0.6666666666666666,
              "#ed7953"
             ],
             [
              0.7777777777777778,
              "#fb9f3a"
             ],
             [
              0.8888888888888888,
              "#fdca26"
             ],
             [
              1,
              "#f0f921"
             ]
            ],
            "type": "heatmapgl"
           }
          ],
          "histogram": [
           {
            "marker": {
             "pattern": {
              "fillmode": "overlay",
              "size": 10,
              "solidity": 0.2
             }
            },
            "type": "histogram"
           }
          ],
          "histogram2d": [
           {
            "colorbar": {
             "outlinewidth": 0,
             "ticks": ""
            },
            "colorscale": [
             [
              0,
              "#0d0887"
             ],
             [
              0.1111111111111111,
              "#46039f"
             ],
             [
              0.2222222222222222,
              "#7201a8"
             ],
             [
              0.3333333333333333,
              "#9c179e"
             ],
             [
              0.4444444444444444,
              "#bd3786"
             ],
             [
              0.5555555555555556,
              "#d8576b"
             ],
             [
              0.6666666666666666,
              "#ed7953"
             ],
             [
              0.7777777777777778,
              "#fb9f3a"
             ],
             [
              0.8888888888888888,
              "#fdca26"
             ],
             [
              1,
              "#f0f921"
             ]
            ],
            "type": "histogram2d"
           }
          ],
          "histogram2dcontour": [
           {
            "colorbar": {
             "outlinewidth": 0,
             "ticks": ""
            },
            "colorscale": [
             [
              0,
              "#0d0887"
             ],
             [
              0.1111111111111111,
              "#46039f"
             ],
             [
              0.2222222222222222,
              "#7201a8"
             ],
             [
              0.3333333333333333,
              "#9c179e"
             ],
             [
              0.4444444444444444,
              "#bd3786"
             ],
             [
              0.5555555555555556,
              "#d8576b"
             ],
             [
              0.6666666666666666,
              "#ed7953"
             ],
             [
              0.7777777777777778,
              "#fb9f3a"
             ],
             [
              0.8888888888888888,
              "#fdca26"
             ],
             [
              1,
              "#f0f921"
             ]
            ],
            "type": "histogram2dcontour"
           }
          ],
          "mesh3d": [
           {
            "colorbar": {
             "outlinewidth": 0,
             "ticks": ""
            },
            "type": "mesh3d"
           }
          ],
          "parcoords": [
           {
            "line": {
             "colorbar": {
              "outlinewidth": 0,
              "ticks": ""
             }
            },
            "type": "parcoords"
           }
          ],
          "pie": [
           {
            "automargin": true,
            "type": "pie"
           }
          ],
          "scatter": [
           {
            "marker": {
             "line": {
              "color": "#283442"
             }
            },
            "type": "scatter"
           }
          ],
          "scatter3d": [
           {
            "line": {
             "colorbar": {
              "outlinewidth": 0,
              "ticks": ""
             }
            },
            "marker": {
             "colorbar": {
              "outlinewidth": 0,
              "ticks": ""
             }
            },
            "type": "scatter3d"
           }
          ],
          "scattercarpet": [
           {
            "marker": {
             "colorbar": {
              "outlinewidth": 0,
              "ticks": ""
             }
            },
            "type": "scattercarpet"
           }
          ],
          "scattergeo": [
           {
            "marker": {
             "colorbar": {
              "outlinewidth": 0,
              "ticks": ""
             }
            },
            "type": "scattergeo"
           }
          ],
          "scattergl": [
           {
            "marker": {
             "line": {
              "color": "#283442"
             }
            },
            "type": "scattergl"
           }
          ],
          "scattermapbox": [
           {
            "marker": {
             "colorbar": {
              "outlinewidth": 0,
              "ticks": ""
             }
            },
            "type": "scattermapbox"
           }
          ],
          "scatterpolar": [
           {
            "marker": {
             "colorbar": {
              "outlinewidth": 0,
              "ticks": ""
             }
            },
            "type": "scatterpolar"
           }
          ],
          "scatterpolargl": [
           {
            "marker": {
             "colorbar": {
              "outlinewidth": 0,
              "ticks": ""
             }
            },
            "type": "scatterpolargl"
           }
          ],
          "scatterternary": [
           {
            "marker": {
             "colorbar": {
              "outlinewidth": 0,
              "ticks": ""
             }
            },
            "type": "scatterternary"
           }
          ],
          "surface": [
           {
            "colorbar": {
             "outlinewidth": 0,
             "ticks": ""
            },
            "colorscale": [
             [
              0,
              "#0d0887"
             ],
             [
              0.1111111111111111,
              "#46039f"
             ],
             [
              0.2222222222222222,
              "#7201a8"
             ],
             [
              0.3333333333333333,
              "#9c179e"
             ],
             [
              0.4444444444444444,
              "#bd3786"
             ],
             [
              0.5555555555555556,
              "#d8576b"
             ],
             [
              0.6666666666666666,
              "#ed7953"
             ],
             [
              0.7777777777777778,
              "#fb9f3a"
             ],
             [
              0.8888888888888888,
              "#fdca26"
             ],
             [
              1,
              "#f0f921"
             ]
            ],
            "type": "surface"
           }
          ],
          "table": [
           {
            "cells": {
             "fill": {
              "color": "#506784"
             },
             "line": {
              "color": "rgb(17,17,17)"
             }
            },
            "header": {
             "fill": {
              "color": "#2a3f5f"
             },
             "line": {
              "color": "rgb(17,17,17)"
             }
            },
            "type": "table"
           }
          ]
         },
         "layout": {
          "annotationdefaults": {
           "arrowcolor": "#f2f5fa",
           "arrowhead": 0,
           "arrowwidth": 1
          },
          "autotypenumbers": "strict",
          "coloraxis": {
           "colorbar": {
            "outlinewidth": 0,
            "ticks": ""
           }
          },
          "colorscale": {
           "diverging": [
            [
             0,
             "#8e0152"
            ],
            [
             0.1,
             "#c51b7d"
            ],
            [
             0.2,
             "#de77ae"
            ],
            [
             0.3,
             "#f1b6da"
            ],
            [
             0.4,
             "#fde0ef"
            ],
            [
             0.5,
             "#f7f7f7"
            ],
            [
             0.6,
             "#e6f5d0"
            ],
            [
             0.7,
             "#b8e186"
            ],
            [
             0.8,
             "#7fbc41"
            ],
            [
             0.9,
             "#4d9221"
            ],
            [
             1,
             "#276419"
            ]
           ],
           "sequential": [
            [
             0,
             "#0d0887"
            ],
            [
             0.1111111111111111,
             "#46039f"
            ],
            [
             0.2222222222222222,
             "#7201a8"
            ],
            [
             0.3333333333333333,
             "#9c179e"
            ],
            [
             0.4444444444444444,
             "#bd3786"
            ],
            [
             0.5555555555555556,
             "#d8576b"
            ],
            [
             0.6666666666666666,
             "#ed7953"
            ],
            [
             0.7777777777777778,
             "#fb9f3a"
            ],
            [
             0.8888888888888888,
             "#fdca26"
            ],
            [
             1,
             "#f0f921"
            ]
           ],
           "sequentialminus": [
            [
             0,
             "#0d0887"
            ],
            [
             0.1111111111111111,
             "#46039f"
            ],
            [
             0.2222222222222222,
             "#7201a8"
            ],
            [
             0.3333333333333333,
             "#9c179e"
            ],
            [
             0.4444444444444444,
             "#bd3786"
            ],
            [
             0.5555555555555556,
             "#d8576b"
            ],
            [
             0.6666666666666666,
             "#ed7953"
            ],
            [
             0.7777777777777778,
             "#fb9f3a"
            ],
            [
             0.8888888888888888,
             "#fdca26"
            ],
            [
             1,
             "#f0f921"
            ]
           ]
          },
          "colorway": [
           "#636efa",
           "#EF553B",
           "#00cc96",
           "#ab63fa",
           "#FFA15A",
           "#19d3f3",
           "#FF6692",
           "#B6E880",
           "#FF97FF",
           "#FECB52"
          ],
          "font": {
           "color": "#f2f5fa"
          },
          "geo": {
           "bgcolor": "rgb(17,17,17)",
           "lakecolor": "rgb(17,17,17)",
           "landcolor": "rgb(17,17,17)",
           "showlakes": true,
           "showland": true,
           "subunitcolor": "#506784"
          },
          "hoverlabel": {
           "align": "left"
          },
          "hovermode": "closest",
          "mapbox": {
           "style": "dark"
          },
          "paper_bgcolor": "rgb(17,17,17)",
          "plot_bgcolor": "rgb(17,17,17)",
          "polar": {
           "angularaxis": {
            "gridcolor": "#506784",
            "linecolor": "#506784",
            "ticks": ""
           },
           "bgcolor": "rgb(17,17,17)",
           "radialaxis": {
            "gridcolor": "#506784",
            "linecolor": "#506784",
            "ticks": ""
           }
          },
          "scene": {
           "xaxis": {
            "backgroundcolor": "rgb(17,17,17)",
            "gridcolor": "#506784",
            "gridwidth": 2,
            "linecolor": "#506784",
            "showbackground": true,
            "ticks": "",
            "zerolinecolor": "#C8D4E3"
           },
           "yaxis": {
            "backgroundcolor": "rgb(17,17,17)",
            "gridcolor": "#506784",
            "gridwidth": 2,
            "linecolor": "#506784",
            "showbackground": true,
            "ticks": "",
            "zerolinecolor": "#C8D4E3"
           },
           "zaxis": {
            "backgroundcolor": "rgb(17,17,17)",
            "gridcolor": "#506784",
            "gridwidth": 2,
            "linecolor": "#506784",
            "showbackground": true,
            "ticks": "",
            "zerolinecolor": "#C8D4E3"
           }
          },
          "shapedefaults": {
           "line": {
            "color": "#f2f5fa"
           }
          },
          "sliderdefaults": {
           "bgcolor": "#C8D4E3",
           "bordercolor": "rgb(17,17,17)",
           "borderwidth": 1,
           "tickwidth": 0
          },
          "ternary": {
           "aaxis": {
            "gridcolor": "#506784",
            "linecolor": "#506784",
            "ticks": ""
           },
           "baxis": {
            "gridcolor": "#506784",
            "linecolor": "#506784",
            "ticks": ""
           },
           "bgcolor": "rgb(17,17,17)",
           "caxis": {
            "gridcolor": "#506784",
            "linecolor": "#506784",
            "ticks": ""
           }
          },
          "title": {
           "x": 0.05
          },
          "updatemenudefaults": {
           "bgcolor": "#506784",
           "borderwidth": 0
          },
          "xaxis": {
           "automargin": true,
           "gridcolor": "#283442",
           "linecolor": "#506784",
           "ticks": "",
           "title": {
            "standoff": 15
           },
           "zerolinecolor": "#283442",
           "zerolinewidth": 2
          },
          "yaxis": {
           "automargin": true,
           "gridcolor": "#283442",
           "linecolor": "#506784",
           "ticks": "",
           "title": {
            "standoff": 15
           },
           "zerolinecolor": "#283442",
           "zerolinewidth": 2
          }
         }
        },
        "title": {
         "text": "Defensive weights",
         "x": 0.5
        },
        "width": 1200,
        "xaxis": {
         "anchor": "y",
         "domain": [
          0,
          1
         ],
         "tickangle": 0,
         "tickfont": {
          "size": 8
         }
        },
        "xaxis2": {
         "anchor": "y2",
         "domain": [
          0,
          1
         ],
         "tickangle": 0,
         "tickfont": {
          "size": 8
         }
        },
        "yaxis": {
         "anchor": "x",
         "domain": [
          0.55,
          1
         ]
        },
        "yaxis2": {
         "anchor": "x2",
         "domain": [
          0,
          0.45
         ]
        }
       }
      }
     },
     "metadata": {},
     "output_type": "display_data"
    }
   ],
   "source": [
    "# Calculate weights for each  weight in the weights_table\n",
    "for weight_name in weights_table.columns:\n",
    "    # Get the weights for the current weight_name\n",
    "    weights = weights_table[weight_name] / 100\n",
    "    weights = weights[:-2]\n",
    "    \n",
    "    ## Apply weights to all columns in sector_exposure\n",
    "    sector_exposure_weighted = pd.DataFrame()\n",
    "    for col in sector_exposure.columns:\n",
    "        sector_exposure_weighted[col] = sector_exposure[col] * weights\n",
    "    # Compute the sum of all columns\n",
    "    sector_exposure_weighted = sector_exposure_weighted.sum(axis=0)\n",
    "    # Compute the sum of all values\n",
    "    total_sector_exposure_weighted = sector_exposure_weighted.sum(axis=0).sum()\n",
    "    # Normalize the values to get the percentage of total exposure for each sector\n",
    "    sector_exposure_weighted = sector_exposure_weighted / total_sector_exposure_weighted * 100\n",
    "\n",
    "    ## Apply weights to all columns in country_exposure\n",
    "    country_exposure_weighted = pd.DataFrame()\n",
    "    for col in country_exposure.columns:\n",
    "        country_exposure_weighted[col] = country_exposure[col] * weights\n",
    "    # Compute the sum of all columns\n",
    "    country_exposure_weighted = country_exposure_weighted.sum(axis=0)\n",
    "    # Compute the sum of all values\n",
    "    total_country_exposure_weighted = country_exposure_weighted.sum(axis=0).sum()\n",
    "    # Normalize the values\n",
    "    country_exposure_weighted = country_exposure_weighted / total_country_exposure_weighted * 100\n",
    "\n",
    "    ## Plot the weighted sector and country exposure\n",
    "    fig = make_subplots(rows=2, cols=1, subplot_titles=['Sector exposure', 'Country exposure'],vertical_spacing=0.1)\n",
    "    fig.update_layout(title=f'{weight_name} weights')\n",
    "    # Plot the weighted sector exposure\n",
    "    fig.add_trace(go.Bar(x=sector_exposure_weighted.index, y=sector_exposure_weighted.values), row=1, col=1)\n",
    "    fig.update_layout(title_x=0.5, showlegend=False)\n",
    "    # Plot the weighted country exposure\n",
    "    fig.add_trace(go.Bar(x=country_exposure_weighted.index, y=country_exposure_weighted.values), row=2, col=1)\n",
    "    fig.update_layout(title_x=0.5, showlegend=False)\n",
    "    fig.update_traces(texttemplate='%{y:.2f}%', textposition='inside')\n",
    "    fig.update_xaxes(tickangle=0, tickfont=dict(size=8))\n",
    "    fig.update_layout(barmode='stack', bargap=0, height=800, width=1200, template='plotly_dark')\n",
    "    pio.write_image(fig, f'output/{weight_name}_portfolio.svg')\n",
    "    \n",
    "# Plot the last figure as an example\n",
    "fig.show()"
   ]
  },
  {
   "cell_type": "markdown",
   "metadata": {},
   "source": [
    "### TER Importance\n",
    "Let's compute the average gain of SP500 as an example"
   ]
  },
  {
   "cell_type": "code",
   "execution_count": 33,
   "metadata": {},
   "outputs": [
    {
     "name": "stdout",
     "output_type": "stream",
     "text": [
      "The average return of the SP500 index is 10.16%\n"
     ]
    }
   ],
   "source": [
    "# Load the data\n",
    "data = vbt.TVData.pull(\n",
    "    'SP:SPX',              # SP500 index\n",
    "    timeframe='12 month',  # 1 year timeframe\n",
    "    limit=31               # We keep 31 years since we want the returns of the last 30 years\n",
    ")\n",
    "\n",
    "# Compute the returns\n",
    "returns = data.close.pct_change().dropna()\n",
    "# Compute the average returns\n",
    "avg_returns = sum(returns) / len(returns)\n",
    "\n",
    "print(f'The average return of the SP500 index is {avg_returns:.2%}')"
   ]
  },
  {
   "cell_type": "markdown",
   "metadata": {},
   "source": [
    "Let's simulate different ters of investment"
   ]
  },
  {
   "cell_type": "code",
   "execution_count": 37,
   "metadata": {},
   "outputs": [
    {
     "name": "stdout",
     "output_type": "stream",
     "text": [
      "Total deposit: 300.0K EUR\n",
      "Gains with 0.00% TER: 565.51% | Savings after 30 years: 1.697M EUR\n",
      "Gains with 0.01% TER: 564.44% | Savings after 30 years: 1.693M EUR\n",
      "Gains with 0.05% TER: 560.18% | Savings after 30 years: 1.681M EUR\n",
      "Gains with 0.10% TER: 554.89% | Savings after 30 years: 1.665M EUR\n",
      "Gains with 0.20% TER: 544.49% | Savings after 30 years: 1.633M EUR\n",
      "Gains with 0.50% TER: 514.50% | Savings after 30 years: 1.544M EUR\n",
      "Gains with 1.00% TER: 468.40% | Savings after 30 years: 1.405M EUR\n"
     ]
    },
    {
     "data": {
      "application/vnd.plotly.v1+json": {
       "config": {
        "plotlyServerURL": "https://plot.ly"
       },
       "data": [
        {
         "mode": "lines",
         "name": "0.00%",
         "type": "scatter",
         "x": [
          1,
          2,
          3,
          4,
          5,
          6,
          7,
          8,
          9,
          10,
          11,
          12,
          13,
          14,
          15,
          16,
          17,
          18,
          19,
          20,
          21,
          22,
          23,
          24,
          25,
          26,
          27,
          28,
          29,
          30
         ],
         "y": [
          10000,
          21016.298878000423,
          33152.18297494377,
          46521.43561101378,
          61249.403892458016,
          77474.17393786802,
          95347.86554257452,
          115038.05841963991,
          136729.36338956264,
          160625.15324981514,
          186949.4695524585,
          215949.1231673523,
          247896.0083253679,
          283089.6518375535,
          321860.0213911572,
          364570.6192524598,
          411621.8903822793,
          463454.97691787174,
          520555.85422240634,
          583459.8872806848,
          652756.8501608463,
          729096.4556034022,
          813194.4465817848,
          905839.3069475093,
          1007899.654077453,
          1120332.3828350462,
          1244191.6372013262,
          1380638.6936918483,
          1530952.849224148,
          1696543.4155179537
         ]
        },
        {
         "mode": "lines",
         "name": "0.01%",
         "type": "scatter",
         "x": [
          1,
          2,
          3,
          4,
          5,
          6,
          7,
          8,
          9,
          10,
          11,
          12,
          13,
          14,
          15,
          16,
          17,
          18,
          19,
          20,
          21,
          22,
          23,
          24,
          25,
          26,
          27,
          28,
          29,
          30
         ],
         "y": [
          10000,
          21015.298878000423,
          33148.97981516817,
          46514.592016488066,
          61237.21332498686,
          77454.62072306004,
          95318.57967466718,
          114996.26437429556,
          136671.8221936418,
          160548.09696638962,
          186848.5272378975,
          215819.23724396442,
          247731.3401864349,
          282883.47536011785,
          321604.60287391674,
          364257.08211968275,
          411240.062797665,
          462993.2202323944,
          520000.8699347698,
          582796.4999151715,
          651967.7631618164,
          728161.9770048803,
          812092.180830443,
          904543.8088334498,
          1006382.0402545332,
          1118559.895885554,
          1242127.1566124414,
          1378240.1874566886,
          1528172.759050676,
          1693327.9678161726
         ]
        },
        {
         "mode": "lines",
         "name": "0.05%",
         "type": "scatter",
         "x": [
          1,
          2,
          3,
          4,
          5,
          6,
          7,
          8,
          9,
          10,
          11,
          12,
          13,
          14,
          15,
          16,
          17,
          18,
          19,
          20,
          21,
          22,
          23,
          24,
          25,
          26,
          27,
          28,
          29,
          30
         ],
         "y": [
          10000,
          21011.298878000427,
          33136.16917606577,
          46487.226246964536,
          61188.47422145525,
          77376.45775412682,
          95201.5302451664,
          114829.25031725244,
          136441.9195179992,
          160240.2755300769,
          186445.3566154815,
          215300.55461084406,
          247073.87554192566,
          282060.4288538023,
          320585.1683766192,
          363005.9104849045,
          409716.6574829952,
          461151.257084059,
          517787.4319718185,
          580151.2168714007,
          648821.8443406636,
          724437.1246610517,
          807699.3697962093,
          899381.916439865,
          1000336.3087388158,
          1111500.207403881,
          1233906.0986683597,
          1368690.883982479,
          1517106.4395125683,
          1680531.2435211965
         ]
        },
        {
         "mode": "lines",
         "name": "0.10%",
         "type": "scatter",
         "x": [
          1,
          2,
          3,
          4,
          5,
          6,
          7,
          8,
          9,
          10,
          11,
          12,
          13,
          14,
          15,
          16,
          17,
          18,
          19,
          20,
          21,
          22,
          23,
          24,
          25,
          26,
          27,
          28,
          29,
          30
         ],
         "y": [
          10000,
          21006.298878000427,
          33120.16037718777,
          46453.038399863595,
          61127.60244201294,
          77278.86621723832,
          95055.42985399353,
          114620.84709498571,
          136155.13007769996,
          159856.4055408191,
          185942.73769450985,
          214654.13452594113,
          246254.75599910185,
          281035.34446551837,
          319315.8996469298,
          361448.62280117004,
          407821.1571591317,
          458860.1544465387,
          515035.20030440413,
          576863.1347241089,
          644912.8072473768,
          719810.3106814908,
          802244.7414826831,
          892974.5398062598,
          992834.4675552584,
          1102743.288629359,
          1223712.2220363815,
          1356854.2456394434,
          1503394.336139152,
          1664680.7395040547
         ]
        },
        {
         "mode": "lines",
         "name": "0.20%",
         "type": "scatter",
         "x": [
          1,
          2,
          3,
          4,
          5,
          6,
          7,
          8,
          9,
          10,
          11,
          12,
          13,
          14,
          15,
          16,
          17,
          18,
          19,
          20,
          21,
          22,
          23,
          24,
          25,
          26,
          27,
          28,
          29,
          30
         ],
         "y": [
          10000,
          20996.298878000423,
          33088.15777943176,
          46384.72722650666,
          61006.03239571909,
          77084.05655843034,
          94763.93246451889,
          114205.25242344971,
          135583.50890857354,
          159091.6786886708,
          184941.96478634348,
          213367.7119875263,
          244625.51319299533,
          278997.5256254413,
          316794.0177999935,
          358356.17024913157,
          404059.1552835055,
          454315.52358898113,
          509578.92822996894,
          570348.2196747867,
          637171.9488079397,
          710653.3185770091,
          791455.6289715645,
          880308.2644847136,
          978013.2781047757,
          1085452.6312693064,
          1203596.1551349284,
          1333510.3050275838,
          1476367.7870976825,
          1633458.1440778216
         ]
        },
        {
         "mode": "lines",
         "name": "0.50%",
         "type": "scatter",
         "x": [
          1,
          2,
          3,
          4,
          5,
          6,
          7,
          8,
          9,
          10,
          11,
          12,
          13,
          14,
          15,
          16,
          17,
          18,
          19,
          20,
          21,
          22,
          23,
          24,
          25,
          26,
          27,
          28,
          29,
          30
         ],
         "y": [
          10000,
          20966.298878000427,
          32992.26998616377,
          46180.30933319549,
          60642.70744263343,
          76502.6054587059,
          93895.04364059158,
          112968.11117256206,
          133884.20708014947,
          156821.422988502,
          181975.05949652396,
          209559.28907807916,
          239808.97966915066,
          272981.69446802343,
          309359.88497593405,
          349253.2959509927,
          393001.60275253217,
          440977.3035317463,
          493588.89089438436,
          551284.3300408563,
          614554.8729986259,
          683939.2414234525,
          760028.213584247,
          843469.6545877598,
          934974.0326733157,
          1035320.4685464917,
          1145363.3692592268,
          1266039.7031210246,
          1398376.9775840086,
          1543501.9880301142
         ]
        },
        {
         "mode": "lines",
         "name": "1.00%",
         "type": "scatter",
         "x": [
          1,
          2,
          3,
          4,
          5,
          6,
          7,
          8,
          9,
          10,
          11,
          12,
          13,
          14,
          15,
          16,
          17,
          18,
          19,
          20,
          21,
          22,
          23,
          24,
          25,
          26,
          27,
          28,
          29,
          30
         ],
         "y": [
          10000,
          20916.298878000423,
          32832.85699738376,
          45841.32800020887,
          60041.76374147296,
          75543.3838164208,
          92465.41559955498,
          110938.01125632651,
          131103.24878050358,
          153116.22475648217,
          177146.24725128475,
          203378.13801111857,
          232013.65397805892,
          263273.0390601463,
          297396.71809000376,
          334647.1460006917,
          375310.8264413395,
          419700.5153583007,
          468157.62649020186,
          521054.8572782333,
          578799.055388305,
          641834.3478923059,
          710645.5571758914,
          785761.929845517,
          867761.2073148066,
          957274.0693782918,
          1054988.984949315,
          1161657.5072705015,
          1278100.0543237745,
          1405212.2188986903
         ]
        }
       ],
       "layout": {
        "template": {
         "data": {
          "bar": [
           {
            "error_x": {
             "color": "#f2f5fa"
            },
            "error_y": {
             "color": "#f2f5fa"
            },
            "marker": {
             "line": {
              "color": "rgb(17,17,17)",
              "width": 0.5
             },
             "pattern": {
              "fillmode": "overlay",
              "size": 10,
              "solidity": 0.2
             }
            },
            "type": "bar"
           }
          ],
          "barpolar": [
           {
            "marker": {
             "line": {
              "color": "rgb(17,17,17)",
              "width": 0.5
             },
             "pattern": {
              "fillmode": "overlay",
              "size": 10,
              "solidity": 0.2
             }
            },
            "type": "barpolar"
           }
          ],
          "carpet": [
           {
            "aaxis": {
             "endlinecolor": "#A2B1C6",
             "gridcolor": "#506784",
             "linecolor": "#506784",
             "minorgridcolor": "#506784",
             "startlinecolor": "#A2B1C6"
            },
            "baxis": {
             "endlinecolor": "#A2B1C6",
             "gridcolor": "#506784",
             "linecolor": "#506784",
             "minorgridcolor": "#506784",
             "startlinecolor": "#A2B1C6"
            },
            "type": "carpet"
           }
          ],
          "choropleth": [
           {
            "colorbar": {
             "outlinewidth": 0,
             "ticks": ""
            },
            "type": "choropleth"
           }
          ],
          "contour": [
           {
            "colorbar": {
             "outlinewidth": 0,
             "ticks": ""
            },
            "colorscale": [
             [
              0,
              "#0d0887"
             ],
             [
              0.1111111111111111,
              "#46039f"
             ],
             [
              0.2222222222222222,
              "#7201a8"
             ],
             [
              0.3333333333333333,
              "#9c179e"
             ],
             [
              0.4444444444444444,
              "#bd3786"
             ],
             [
              0.5555555555555556,
              "#d8576b"
             ],
             [
              0.6666666666666666,
              "#ed7953"
             ],
             [
              0.7777777777777778,
              "#fb9f3a"
             ],
             [
              0.8888888888888888,
              "#fdca26"
             ],
             [
              1,
              "#f0f921"
             ]
            ],
            "type": "contour"
           }
          ],
          "contourcarpet": [
           {
            "colorbar": {
             "outlinewidth": 0,
             "ticks": ""
            },
            "type": "contourcarpet"
           }
          ],
          "heatmap": [
           {
            "colorbar": {
             "outlinewidth": 0,
             "ticks": ""
            },
            "colorscale": [
             [
              0,
              "#0d0887"
             ],
             [
              0.1111111111111111,
              "#46039f"
             ],
             [
              0.2222222222222222,
              "#7201a8"
             ],
             [
              0.3333333333333333,
              "#9c179e"
             ],
             [
              0.4444444444444444,
              "#bd3786"
             ],
             [
              0.5555555555555556,
              "#d8576b"
             ],
             [
              0.6666666666666666,
              "#ed7953"
             ],
             [
              0.7777777777777778,
              "#fb9f3a"
             ],
             [
              0.8888888888888888,
              "#fdca26"
             ],
             [
              1,
              "#f0f921"
             ]
            ],
            "type": "heatmap"
           }
          ],
          "heatmapgl": [
           {
            "colorbar": {
             "outlinewidth": 0,
             "ticks": ""
            },
            "colorscale": [
             [
              0,
              "#0d0887"
             ],
             [
              0.1111111111111111,
              "#46039f"
             ],
             [
              0.2222222222222222,
              "#7201a8"
             ],
             [
              0.3333333333333333,
              "#9c179e"
             ],
             [
              0.4444444444444444,
              "#bd3786"
             ],
             [
              0.5555555555555556,
              "#d8576b"
             ],
             [
              0.6666666666666666,
              "#ed7953"
             ],
             [
              0.7777777777777778,
              "#fb9f3a"
             ],
             [
              0.8888888888888888,
              "#fdca26"
             ],
             [
              1,
              "#f0f921"
             ]
            ],
            "type": "heatmapgl"
           }
          ],
          "histogram": [
           {
            "marker": {
             "pattern": {
              "fillmode": "overlay",
              "size": 10,
              "solidity": 0.2
             }
            },
            "type": "histogram"
           }
          ],
          "histogram2d": [
           {
            "colorbar": {
             "outlinewidth": 0,
             "ticks": ""
            },
            "colorscale": [
             [
              0,
              "#0d0887"
             ],
             [
              0.1111111111111111,
              "#46039f"
             ],
             [
              0.2222222222222222,
              "#7201a8"
             ],
             [
              0.3333333333333333,
              "#9c179e"
             ],
             [
              0.4444444444444444,
              "#bd3786"
             ],
             [
              0.5555555555555556,
              "#d8576b"
             ],
             [
              0.6666666666666666,
              "#ed7953"
             ],
             [
              0.7777777777777778,
              "#fb9f3a"
             ],
             [
              0.8888888888888888,
              "#fdca26"
             ],
             [
              1,
              "#f0f921"
             ]
            ],
            "type": "histogram2d"
           }
          ],
          "histogram2dcontour": [
           {
            "colorbar": {
             "outlinewidth": 0,
             "ticks": ""
            },
            "colorscale": [
             [
              0,
              "#0d0887"
             ],
             [
              0.1111111111111111,
              "#46039f"
             ],
             [
              0.2222222222222222,
              "#7201a8"
             ],
             [
              0.3333333333333333,
              "#9c179e"
             ],
             [
              0.4444444444444444,
              "#bd3786"
             ],
             [
              0.5555555555555556,
              "#d8576b"
             ],
             [
              0.6666666666666666,
              "#ed7953"
             ],
             [
              0.7777777777777778,
              "#fb9f3a"
             ],
             [
              0.8888888888888888,
              "#fdca26"
             ],
             [
              1,
              "#f0f921"
             ]
            ],
            "type": "histogram2dcontour"
           }
          ],
          "mesh3d": [
           {
            "colorbar": {
             "outlinewidth": 0,
             "ticks": ""
            },
            "type": "mesh3d"
           }
          ],
          "parcoords": [
           {
            "line": {
             "colorbar": {
              "outlinewidth": 0,
              "ticks": ""
             }
            },
            "type": "parcoords"
           }
          ],
          "pie": [
           {
            "automargin": true,
            "type": "pie"
           }
          ],
          "scatter": [
           {
            "marker": {
             "line": {
              "color": "#283442"
             }
            },
            "type": "scatter"
           }
          ],
          "scatter3d": [
           {
            "line": {
             "colorbar": {
              "outlinewidth": 0,
              "ticks": ""
             }
            },
            "marker": {
             "colorbar": {
              "outlinewidth": 0,
              "ticks": ""
             }
            },
            "type": "scatter3d"
           }
          ],
          "scattercarpet": [
           {
            "marker": {
             "colorbar": {
              "outlinewidth": 0,
              "ticks": ""
             }
            },
            "type": "scattercarpet"
           }
          ],
          "scattergeo": [
           {
            "marker": {
             "colorbar": {
              "outlinewidth": 0,
              "ticks": ""
             }
            },
            "type": "scattergeo"
           }
          ],
          "scattergl": [
           {
            "marker": {
             "line": {
              "color": "#283442"
             }
            },
            "type": "scattergl"
           }
          ],
          "scattermapbox": [
           {
            "marker": {
             "colorbar": {
              "outlinewidth": 0,
              "ticks": ""
             }
            },
            "type": "scattermapbox"
           }
          ],
          "scatterpolar": [
           {
            "marker": {
             "colorbar": {
              "outlinewidth": 0,
              "ticks": ""
             }
            },
            "type": "scatterpolar"
           }
          ],
          "scatterpolargl": [
           {
            "marker": {
             "colorbar": {
              "outlinewidth": 0,
              "ticks": ""
             }
            },
            "type": "scatterpolargl"
           }
          ],
          "scatterternary": [
           {
            "marker": {
             "colorbar": {
              "outlinewidth": 0,
              "ticks": ""
             }
            },
            "type": "scatterternary"
           }
          ],
          "surface": [
           {
            "colorbar": {
             "outlinewidth": 0,
             "ticks": ""
            },
            "colorscale": [
             [
              0,
              "#0d0887"
             ],
             [
              0.1111111111111111,
              "#46039f"
             ],
             [
              0.2222222222222222,
              "#7201a8"
             ],
             [
              0.3333333333333333,
              "#9c179e"
             ],
             [
              0.4444444444444444,
              "#bd3786"
             ],
             [
              0.5555555555555556,
              "#d8576b"
             ],
             [
              0.6666666666666666,
              "#ed7953"
             ],
             [
              0.7777777777777778,
              "#fb9f3a"
             ],
             [
              0.8888888888888888,
              "#fdca26"
             ],
             [
              1,
              "#f0f921"
             ]
            ],
            "type": "surface"
           }
          ],
          "table": [
           {
            "cells": {
             "fill": {
              "color": "#506784"
             },
             "line": {
              "color": "rgb(17,17,17)"
             }
            },
            "header": {
             "fill": {
              "color": "#2a3f5f"
             },
             "line": {
              "color": "rgb(17,17,17)"
             }
            },
            "type": "table"
           }
          ]
         },
         "layout": {
          "annotationdefaults": {
           "arrowcolor": "#f2f5fa",
           "arrowhead": 0,
           "arrowwidth": 1
          },
          "autotypenumbers": "strict",
          "coloraxis": {
           "colorbar": {
            "outlinewidth": 0,
            "ticks": ""
           }
          },
          "colorscale": {
           "diverging": [
            [
             0,
             "#8e0152"
            ],
            [
             0.1,
             "#c51b7d"
            ],
            [
             0.2,
             "#de77ae"
            ],
            [
             0.3,
             "#f1b6da"
            ],
            [
             0.4,
             "#fde0ef"
            ],
            [
             0.5,
             "#f7f7f7"
            ],
            [
             0.6,
             "#e6f5d0"
            ],
            [
             0.7,
             "#b8e186"
            ],
            [
             0.8,
             "#7fbc41"
            ],
            [
             0.9,
             "#4d9221"
            ],
            [
             1,
             "#276419"
            ]
           ],
           "sequential": [
            [
             0,
             "#0d0887"
            ],
            [
             0.1111111111111111,
             "#46039f"
            ],
            [
             0.2222222222222222,
             "#7201a8"
            ],
            [
             0.3333333333333333,
             "#9c179e"
            ],
            [
             0.4444444444444444,
             "#bd3786"
            ],
            [
             0.5555555555555556,
             "#d8576b"
            ],
            [
             0.6666666666666666,
             "#ed7953"
            ],
            [
             0.7777777777777778,
             "#fb9f3a"
            ],
            [
             0.8888888888888888,
             "#fdca26"
            ],
            [
             1,
             "#f0f921"
            ]
           ],
           "sequentialminus": [
            [
             0,
             "#0d0887"
            ],
            [
             0.1111111111111111,
             "#46039f"
            ],
            [
             0.2222222222222222,
             "#7201a8"
            ],
            [
             0.3333333333333333,
             "#9c179e"
            ],
            [
             0.4444444444444444,
             "#bd3786"
            ],
            [
             0.5555555555555556,
             "#d8576b"
            ],
            [
             0.6666666666666666,
             "#ed7953"
            ],
            [
             0.7777777777777778,
             "#fb9f3a"
            ],
            [
             0.8888888888888888,
             "#fdca26"
            ],
            [
             1,
             "#f0f921"
            ]
           ]
          },
          "colorway": [
           "#636efa",
           "#EF553B",
           "#00cc96",
           "#ab63fa",
           "#FFA15A",
           "#19d3f3",
           "#FF6692",
           "#B6E880",
           "#FF97FF",
           "#FECB52"
          ],
          "font": {
           "color": "#f2f5fa"
          },
          "geo": {
           "bgcolor": "rgb(17,17,17)",
           "lakecolor": "rgb(17,17,17)",
           "landcolor": "rgb(17,17,17)",
           "showlakes": true,
           "showland": true,
           "subunitcolor": "#506784"
          },
          "hoverlabel": {
           "align": "left"
          },
          "hovermode": "closest",
          "mapbox": {
           "style": "dark"
          },
          "paper_bgcolor": "rgb(17,17,17)",
          "plot_bgcolor": "rgb(17,17,17)",
          "polar": {
           "angularaxis": {
            "gridcolor": "#506784",
            "linecolor": "#506784",
            "ticks": ""
           },
           "bgcolor": "rgb(17,17,17)",
           "radialaxis": {
            "gridcolor": "#506784",
            "linecolor": "#506784",
            "ticks": ""
           }
          },
          "scene": {
           "xaxis": {
            "backgroundcolor": "rgb(17,17,17)",
            "gridcolor": "#506784",
            "gridwidth": 2,
            "linecolor": "#506784",
            "showbackground": true,
            "ticks": "",
            "zerolinecolor": "#C8D4E3"
           },
           "yaxis": {
            "backgroundcolor": "rgb(17,17,17)",
            "gridcolor": "#506784",
            "gridwidth": 2,
            "linecolor": "#506784",
            "showbackground": true,
            "ticks": "",
            "zerolinecolor": "#C8D4E3"
           },
           "zaxis": {
            "backgroundcolor": "rgb(17,17,17)",
            "gridcolor": "#506784",
            "gridwidth": 2,
            "linecolor": "#506784",
            "showbackground": true,
            "ticks": "",
            "zerolinecolor": "#C8D4E3"
           }
          },
          "shapedefaults": {
           "line": {
            "color": "#f2f5fa"
           }
          },
          "sliderdefaults": {
           "bgcolor": "#C8D4E3",
           "bordercolor": "rgb(17,17,17)",
           "borderwidth": 1,
           "tickwidth": 0
          },
          "ternary": {
           "aaxis": {
            "gridcolor": "#506784",
            "linecolor": "#506784",
            "ticks": ""
           },
           "baxis": {
            "gridcolor": "#506784",
            "linecolor": "#506784",
            "ticks": ""
           },
           "bgcolor": "rgb(17,17,17)",
           "caxis": {
            "gridcolor": "#506784",
            "linecolor": "#506784",
            "ticks": ""
           }
          },
          "title": {
           "x": 0.05
          },
          "updatemenudefaults": {
           "bgcolor": "#506784",
           "borderwidth": 0
          },
          "xaxis": {
           "automargin": true,
           "gridcolor": "#283442",
           "linecolor": "#506784",
           "ticks": "",
           "title": {
            "standoff": 15
           },
           "zerolinecolor": "#283442",
           "zerolinewidth": 2
          },
          "yaxis": {
           "automargin": true,
           "gridcolor": "#283442",
           "linecolor": "#506784",
           "ticks": "",
           "title": {
            "standoff": 15
           },
           "zerolinecolor": "#283442",
           "zerolinewidth": 2
          }
         }
        },
        "title": {
         "text": "Savings over time with different TERs",
         "x": 0.5
        },
        "xaxis": {
         "title": {
          "text": "Years"
         }
        },
        "yaxis": {
         "title": {
          "text": "Savings"
         }
        }
       }
      }
     },
     "metadata": {},
     "output_type": "display_data"
    }
   ],
   "source": [
    "# Every year we deposit 10000 EUR in the account for 30 years\n",
    "# Then, each year we compute the total savings in the account\n",
    "ters = [0, 0.0001, 0.0005, 0.001, 0.002, 0.005, 0.01]\n",
    "years = [x for x in range(1, 31)]\n",
    "deposit = 10000\n",
    "\n",
    "print(f'Total deposit: {deposit * len(years) / 1e3}K EUR')\n",
    "# Plot results\n",
    "fig = go.Figure()\n",
    "for ter in ters:\n",
    "    savings = 0\n",
    "    ter_savings = []\n",
    "    for year in years:\n",
    "        savings = savings * (1 + avg_returns - ter) + deposit\n",
    "        ter_savings.append(savings)\n",
    "    fig.add_trace(go.Scatter(x=years, y=ter_savings, mode='lines', name=f'{ter:.2%}'))\n",
    "    print(f'Gains with {ter:.2%} TER: {ter_savings[-1] / (deposit * len(years)):.2%} | Savings after 30 years: {ter_savings[-1]/1e6:.3f}M EUR')\n",
    "\n",
    "fig.update_layout(title='Savings over time with different TERs', xaxis_title='Years', yaxis_title='Savings', template='plotly_dark')\n",
    "fig.update_layout(title_x=0.5)\n",
    "pio.write_image(fig, 'output/ter_comparison.svg')\n",
    "fig.show()"
   ]
  }
 ],
 "metadata": {
  "kernelspec": {
   "display_name": "trading",
   "language": "python",
   "name": "python3"
  },
  "language_info": {
   "codemirror_mode": {
    "name": "ipython",
    "version": 3
   },
   "file_extension": ".py",
   "mimetype": "text/x-python",
   "name": "python",
   "nbconvert_exporter": "python",
   "pygments_lexer": "ipython3",
   "version": "3.11.9"
  }
 },
 "nbformat": 4,
 "nbformat_minor": 2
}
